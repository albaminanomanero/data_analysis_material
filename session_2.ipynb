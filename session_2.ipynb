{
 "cells": [
  {
   "cell_type": "markdown",
   "id": "c9da37fb",
   "metadata": {
    "vscode": {
     "languageId": "r"
    }
   },
   "source": [
    "# Session 2: Getting to Know Your Data – Types, Tables, and First Plots in R\n",
    "### Data analysis for Economics and Management (Academic Course 2025-2026)\n",
    "\n",
    "Alba Miñano-Mañero (alba.minano@iseg.ulisboa.pt)\n",
    "\n",
    "Today's session aims to help you start using **R effectively for data analysis**. We'll begin with the fundamentals of R programming and gradually move toward creating and interpreting basic data visualizations.\n",
    "\n",
    "By the end of this session, you should be able to:\n",
    "\n",
    "1. Understand the **basic data types** in R and how to create and store them  \n",
    "2. Get started with the **`ggplot2`** package for creating graphics  \n",
    "3. Create and interpret:\n",
    "    - **Frequency tables**  \n",
    "    - **Bar charts**  \n",
    "    - **Histograms**  \n",
    "    - **Pie charts**  "
   ]
  },
  {
   "cell_type": "markdown",
   "id": "a82c6232",
   "metadata": {},
   "source": [
    "## 1. Data types in R\n",
    "\n",
    "R has **six base data types**, but we typically use **four** for data analysis:\n",
    "\n",
    "1. **Logical**\n",
    "- Represents `TRUE` or `FALSE` values.\n",
    "- Commonly used for condition checks and logical comparisons.\n",
    "- Abbreviation: (`lgl`)\n",
    "\n",
    "2.  **Integer**\n",
    "\n",
    "- Whole numbers stored with an L suffix.\n",
    "- Takes up less memory than doubles because the have no decimals. \n",
    "- Abbreviation: (`int`)\n",
    "\n",
    "3.  **Double**\n",
    "\n",
    "- Numeric and real numbers. \n",
    "- Abbreviation: (`dbl`)\n",
    "\n",
    "4. **Character**\n",
    "\n",
    "- Store text (strings)\n",
    "- Abbreviation: (`chr`)\n",
    "\n",
    "It is important to understand data types in R because many functions are data-type specific—meaning they will only work correctly or efficiently when given input of the expected type, and may throw errors or return unexpected results otherwise.\n",
    "\n",
    "Some useful functions to work with data types are:\n",
    "\n",
    "- Returns the **data type** of the object: `typeof(x)`.  \n",
    "\n",
    "- To knoe the type of the object: `is.character(x)`, `is.logical(x)`, `is.numeric(x)`\n",
    "\n",
    "    → Return **TRUE/FALSE** depending on whether the object is of the specified type.\n",
    "\n",
    "- **Convert** an object from any type to another: `as.character(x)`, `as.logical(x)`, `as.integer(x)` → \n",
    "\n",
    "> Before we see some examples, a small note about variable creation:  \n",
    "> In R, you can assign values to variables using either `<-` or `=`:\n",
    ">   - **`<-`** is the traditional and most widely used assignment operator in R.\n",
    ">   - **`=`** can also assign values to variables, but it is more commonly used for assigning function arguments (i.e, `mean(x = c(1, 2, 3))`).\n",
    "> Remeber also that nothing prevents R from overwriting variable values. So if we do `x = 5` and right after `x = 6`, `x` now holds the value 6. Be cautious when reusing variable names to avoid losing important data!\n",
    "\n",
    "Let's start with a simple example:\n"
   ]
  },
  {
   "cell_type": "code",
   "execution_count": 1,
   "id": "311877a3",
   "metadata": {
    "vscode": {
     "languageId": "r"
    }
   },
   "outputs": [
    {
     "name": "stdout",
     "output_type": "stream",
     "text": [
      "Is x numeric? TRUE \n",
      "Is x an integer?  FALSE \n",
      "Type of x:  double \n"
     ]
    }
   ],
   "source": [
    "\n",
    "x <- 5.2\n",
    "\n",
    "cat(\"Is x numeric?\", is.numeric(x), '\\n')\n",
    "cat(\"Is x an integer? \", is.integer(x), '\\n')\n",
    "cat(\"Type of x: \", typeof(x), '\\n')"
   ]
  },
  {
   "cell_type": "markdown",
   "id": "32904846",
   "metadata": {},
   "source": [
    "**What did we do in these lines of code?**\n",
    "\n",
    "First, we created a variable `x` and assigned it the value 5.2. Then, we used different functions to check the type of `x`. These functions return `TRUE` or `FALSE` depending on whether `x` matches the expected type.\n",
    "\n",
    "To print the results, we used `cat()`, which concatenates multiple strings and outputs them as a single line. Since we had several pieces of information to display on separate lines, we included the newline character `\\n` to ensure each output appears on a new line.\n",
    "\n",
    "Using `cat()` instead of `print()` helps create cleaner, more readable output without extra quotes or formatting.\n",
    "\n",
    "Let's see some examples of different data types:"
   ]
  },
  {
   "cell_type": "code",
   "execution_count": 2,
   "id": "1364553d",
   "metadata": {
    "vscode": {
     "languageId": "r"
    }
   },
   "outputs": [
    {
     "name": "stdout",
     "output_type": "stream",
     "text": [
      "Class of this_is_int: integer \n",
      "Class of this_is_float: double \n",
      "Class of this_is_a_string: character \n",
      "Class of this_is_bool: logical \n",
      "Class of this_is_bool: NULL \n"
     ]
    }
   ],
   "source": [
    "\n",
    "this_is_int <- 5L   # why did we write the L suffix?\n",
    "cat(\"Class of this_is_int:\", typeof(this_is_int), \"\\n\")\n",
    "\n",
    "this_is_float <- 5.2  # by default numeric is double precision float\n",
    "cat(\"Class of this_is_float:\", typeof(this_is_float), \"\\n\")\n",
    "\n",
    "this_is_a_string <- 'abc'\n",
    "cat(\"Class of this_is_a_string:\", typeof(this_is_a_string), \"\\n\")\n",
    "\n",
    "this_is_bool <- TRUE\n",
    "cat(\"Class of this_is_bool:\", typeof(this_is_bool), \"\\n\")\n",
    "\n",
    "this_is_none <- NULL\n",
    "cat(\"Class of this_is_bool:\", typeof(this_is_none), \"\\n\")"
   ]
  },
  {
   "cell_type": "markdown",
   "id": "7ae94e04",
   "metadata": {},
   "source": [
    "In the last line we assigned the special value `NULL` to the variable `this_is_none`, representing the absence of a value or an empty object in R.\n",
    "\n",
    "\n",
    "R understands **logical comparisons** directly. This means that if you compare two objects using standard math comparison symbols (`<`, `>`, `==`, `!=`, `<=`, `>=`), R will automatically evaluate the expression and return either `TRUE` or `FALSE` depending on whether the comparison is correct. For instance:"
   ]
  },
  {
   "cell_type": "code",
   "execution_count": 3,
   "id": "ff1c1c69",
   "metadata": {
    "vscode": {
     "languageId": "r"
    }
   },
   "outputs": [
    {
     "data": {
      "text/html": [
       "FALSE"
      ],
      "text/latex": [
       "FALSE"
      ],
      "text/markdown": [
       "FALSE"
      ],
      "text/plain": [
       "[1] FALSE"
      ]
     },
     "metadata": {},
     "output_type": "display_data"
    },
    {
     "data": {
      "text/html": [
       "TRUE"
      ],
      "text/latex": [
       "TRUE"
      ],
      "text/markdown": [
       "TRUE"
      ],
      "text/plain": [
       "[1] TRUE"
      ]
     },
     "metadata": {},
     "output_type": "display_data"
    },
    {
     "data": {
      "text/html": [
       "TRUE"
      ],
      "text/latex": [
       "TRUE"
      ],
      "text/markdown": [
       "TRUE"
      ],
      "text/plain": [
       "[1] TRUE"
      ]
     },
     "metadata": {},
     "output_type": "display_data"
    }
   ],
   "source": [
    "5 < 3     # Is 5 less than 3? → FALSE\n",
    "10 == 10  # Is 10 equal to 10? → TRUE\n",
    "4 != 2    # Is 4 not equal to 2? → TRUE"
   ]
  },
  {
   "cell_type": "markdown",
   "id": "6192875c",
   "metadata": {},
   "source": [
    "#### Good Practices naming variables in R\n",
    "\n",
    "Just like writing regular text, coding in R involves a certain *personal style*. Two people might write very different-looking code while solving the same problem — and one of the most visible areas where this happens is in how we **name our variables**.\n",
    "\n",
    "However, regardless of whether we prefer concise or descriptive naming, there are **some basic rules and good practices** everyone should follow in R:\n",
    "\n",
    "\n",
    "1. **Valid variable names** can include:\n",
    "   - **Letters** (A–Z, a–z)\n",
    "   - **Numbers** (0–9) *(but not at the beginning)*\n",
    "   - **Periods (`.`)** or **underscores (`_`)** (though periods are more common in base R)\n",
    "\n",
    "2. **Variable names cannot start with a number**, and must begin with a **letter** or a **dot that is not followed by a number**.\n",
    "\n",
    "3. **Reserved words (keywords)** in R like `if`, `for`, `TRUE`, `NULL`, etc., **cannot** be used as variable names.  \n",
    "   > You can see all reserved words in R by typing `?Reserved` in the R console.\n",
    "\n",
    "4. **R is case sensitive**:  \n",
    "   `Age`, `age`, and `AGE` are three different variables.\n",
    "\n",
    "5. **Be descriptive, not cryptic**:  \n",
    "   - Good: `total_score`, `user_age`  \n",
    "   - Bad: `x`, `data1` *(unless used very locally)*  \n",
    "   - Use **nouns for variables**, **verbs for functions**, and **adjectives for booleans**.\n",
    "\n",
    "6. Although you *can* use names in any language, using **English** is preferred so your code is understandable to a wider audience.\n",
    "\n",
    "7. **Avoid overwriting built-in R functions** like `mean`, `sum`, or `data.frame`.  \n",
    "   - If you create a variable called `mean`, you won’t be able to use the original function until you restart your session.\n",
    "\n",
    "With this, we wrap up our brief introduction to **data types** in R. In the next session, we'll take a closer look at **data structures**, which will help us organize and manage data more effectively.\n",
    "\n",
    "Now, it's time to explore the `ggplot2` package and learn how to use it to create some of the **graphs and descriptive statistics** we've discussed in class — such as bar charts, histograms, and pie charts.\n",
    "\n"
   ]
  },
  {
   "cell_type": "markdown",
   "id": "fd388fc9",
   "metadata": {},
   "source": [
    "## 2. `ggplot2`\n",
    "\n",
    "`ggplot2` (short for *Grammar of Graphics Plotting*) is one of the most widely used packages for data visualization in R. It provides a structured, layered approach to creating graphics, making it easier to design complex plots in a logical and readable way.\n",
    "\n",
    "`ggplot2` has become the de facto standard for visualizing data in R. Many other R packages for statistical modeling and data analysis are designed to work seamlessly with `ggplot2`, making it a central tool in the R ecosystem.\n",
    "\n",
    "Rather than relying on low-level plotting commands, `ggplot2` encourages users to build plots step-by-step by adding layers that define data, visual elements (geometries), statistical transformations, scales, labels, and themes. This approach promotes clarity, reusability, and flexibility in how visualizations are constructed.\n",
    "\n",
    "Understanding `ggplot2` is essential for any data analyst or scientist using R, as it allows for the creation of clean, publication-quality visualizations with relatively little code. It also fosters good visualization habits by encouraging a consistent and logical mapping between data and its graphical representation.\n",
    "\n",
    "> **Important:** Since we are all using the same pre-configured environment (or running on Binder), **you do NOT need to install `ggplot2` manually**. You can simply load it in your R session with `library(ggplot2)` and start using it right away. Same applies to `readxl` library. \n",
    "\n"
   ]
  },
  {
   "cell_type": "code",
   "execution_count": 4,
   "id": "849ac54c",
   "metadata": {
    "vscode": {
     "languageId": "r"
    }
   },
   "outputs": [],
   "source": [
    "library(ggplot2)\n",
    "library(readxl)\n"
   ]
  },
  {
   "cell_type": "markdown",
   "id": "d2925f1a",
   "metadata": {},
   "source": [
    "To support data manipulation, summary statistics, and nicely formatted tables we will also use the following libraries:\n",
    "- `dplyr`: for efficient data wrangling and transformation\n",
    "- `knitr`: for printing clean and readable tables (e.g., with `kable()`)\n",
    "- `psych`:   for descriptive statistics and psychological data analysis tools"
   ]
  },
  {
   "cell_type": "code",
   "execution_count": null,
   "id": "3ca150fa",
   "metadata": {
    "vscode": {
     "languageId": "r"
    }
   },
   "outputs": [
    {
     "name": "stderr",
     "output_type": "stream",
     "text": [
      "\n",
      "Attaching package: ‘dplyr’\n",
      "\n",
      "\n",
      "The following objects are masked from ‘package:stats’:\n",
      "\n",
      "    filter, lag\n",
      "\n",
      "\n",
      "The following objects are masked from ‘package:base’:\n",
      "\n",
      "    intersect, setdiff, setequal, union\n",
      "\n",
      "\n",
      "\n",
      "Attaching package: ‘psych’\n",
      "\n",
      "\n",
      "The following objects are masked from ‘package:ggplot2’:\n",
      "\n",
      "    %+%, alpha\n",
      "\n",
      "\n"
     ]
    }
   ],
   "source": [
    "library(dplyr)\n",
    "library(knitr)\n",
    "library(psych)"
   ]
  },
  {
   "cell_type": "markdown",
   "id": "a4d522c5",
   "metadata": {},
   "source": [
    "Let's load a fictitious dataset containing information about wage and education:"
   ]
  },
  {
   "cell_type": "code",
   "execution_count": 6,
   "id": "78765d62",
   "metadata": {
    "vscode": {
     "languageId": "r"
    }
   },
   "outputs": [],
   "source": [
    "data = read_excel(\"data/session_2/education_wage.xlsx\")"
   ]
  },
  {
   "cell_type": "markdown",
   "id": "c404c3a9",
   "metadata": {},
   "source": [
    "> **Important:**  \n",
    ">   Because we are using the pre-configured Binder environment, all file paths are relative.  \n",
    ">   Otherwise, remember to set your working directory using the `setwd()` function in R.\n"
   ]
  },
  {
   "cell_type": "markdown",
   "id": "67c4666b",
   "metadata": {},
   "source": [
    "We can explore our data:"
   ]
  },
  {
   "cell_type": "code",
   "execution_count": 7,
   "id": "7213336b",
   "metadata": {
    "vscode": {
     "languageId": "r"
    }
   },
   "outputs": [
    {
     "data": {
      "text/html": [
       "<table class=\"dataframe\">\n",
       "<caption>A tibble: 6 × 4</caption>\n",
       "<thead>\n",
       "\t<tr><th scope=col>id</th><th scope=col>Monthly wage (Eur)</th><th scope=col>Education (years)</th><th scope=col>Predicted Wage (Eur)</th></tr>\n",
       "\t<tr><th scope=col>&lt;dbl&gt;</th><th scope=col>&lt;dbl&gt;</th><th scope=col>&lt;dbl&gt;</th><th scope=col>&lt;dbl&gt;</th></tr>\n",
       "</thead>\n",
       "<tbody>\n",
       "\t<tr><td>1</td><td>550</td><td>4</td><td>501.4429</td></tr>\n",
       "\t<tr><td>2</td><td>560</td><td>4</td><td>501.4429</td></tr>\n",
       "\t<tr><td>3</td><td>580</td><td>5</td><td>553.3147</td></tr>\n",
       "\t<tr><td>4</td><td>650</td><td>7</td><td>657.0583</td></tr>\n",
       "\t<tr><td>5</td><td>670</td><td>7</td><td>657.0583</td></tr>\n",
       "\t<tr><td>6</td><td>725</td><td>9</td><td>760.8019</td></tr>\n",
       "</tbody>\n",
       "</table>\n"
      ],
      "text/latex": [
       "A tibble: 6 × 4\n",
       "\\begin{tabular}{llll}\n",
       " id & Monthly wage (Eur) & Education (years) & Predicted Wage (Eur)\\\\\n",
       " <dbl> & <dbl> & <dbl> & <dbl>\\\\\n",
       "\\hline\n",
       "\t 1 & 550 & 4 & 501.4429\\\\\n",
       "\t 2 & 560 & 4 & 501.4429\\\\\n",
       "\t 3 & 580 & 5 & 553.3147\\\\\n",
       "\t 4 & 650 & 7 & 657.0583\\\\\n",
       "\t 5 & 670 & 7 & 657.0583\\\\\n",
       "\t 6 & 725 & 9 & 760.8019\\\\\n",
       "\\end{tabular}\n"
      ],
      "text/markdown": [
       "\n",
       "A tibble: 6 × 4\n",
       "\n",
       "| id &lt;dbl&gt; | Monthly wage (Eur) &lt;dbl&gt; | Education (years) &lt;dbl&gt; | Predicted Wage (Eur) &lt;dbl&gt; |\n",
       "|---|---|---|---|\n",
       "| 1 | 550 | 4 | 501.4429 |\n",
       "| 2 | 560 | 4 | 501.4429 |\n",
       "| 3 | 580 | 5 | 553.3147 |\n",
       "| 4 | 650 | 7 | 657.0583 |\n",
       "| 5 | 670 | 7 | 657.0583 |\n",
       "| 6 | 725 | 9 | 760.8019 |\n",
       "\n"
      ],
      "text/plain": [
       "  id Monthly wage (Eur) Education (years) Predicted Wage (Eur)\n",
       "1 1  550                4                 501.4429            \n",
       "2 2  560                4                 501.4429            \n",
       "3 3  580                5                 553.3147            \n",
       "4 4  650                7                 657.0583            \n",
       "5 5  670                7                 657.0583            \n",
       "6 6  725                9                 760.8019            "
      ]
     },
     "metadata": {},
     "output_type": "display_data"
    }
   ],
   "source": [
    "head(data)"
   ]
  },
  {
   "cell_type": "markdown",
   "id": "13e75bd3",
   "metadata": {},
   "source": [
    "❓**Can you tell the data type of each column in the dataset?**"
   ]
  },
  {
   "cell_type": "markdown",
   "id": "0463f67c",
   "metadata": {},
   "source": [
    "### 2.1 Frequency tables\n",
    "\n",
    "In class, we’ve learned that frequency tables are a tool to summarize data.\n",
    "\n",
    "A frequency table lists each unique category (or value) of a variable in one column, and the corresponding count of how many times that category appears in the dataset in another column. \n",
    "\n",
    "Frequency tables often include relative frequencies or percentages, which show the proportion of each category relative to the total number of observations. This helps us understand not only the raw counts but also the distribution of data across categories. \n",
    "\n",
    "By organizing data in this way, frequency tables provide a summary that makes it easier to detect patterns, trends, or imbalances within the data. \n",
    "\n",
    "\n",
    "❓ **Do you remember what we do to continuous numerical data to represent it in frequency tables?**\n",
    "\n",
    "In R, we will use the table() function to create a frequency table for your nominal variable. \n",
    "\n",
    "> **Note:**\n",
    "> While \"years\" typically represent time and are treated as a continuous variable, there are situations where they might be considered categorical.\n",
    "> For example, if individuals complete full years of education one at a time (e.g., 1st grade, 2nd grade, etc.), we could argue that each year is a distinct category rather than part of a smooth, continuous scale.\n",
    "> So, context matters when deciding whether to treat \"years\" as continuous or categorical!"
   ]
  },
  {
   "cell_type": "code",
   "execution_count": 8,
   "id": "b3d40fe4",
   "metadata": {
    "vscode": {
     "languageId": "r"
    }
   },
   "outputs": [
    {
     "name": "stdout",
     "output_type": "stream",
     "text": [
      "\n",
      " 4  5  6  7  9 12 15 16 18 \n",
      " 2  1  1  2  4  4  5  2  1 \n"
     ]
    }
   ],
   "source": [
    "freq_table <- table(data$`Education (years)`) # if your variable name contains spaces, make sure to enclose it in backticks ` or quotes \" \"\n",
    "\n",
    "print(freq_table) "
   ]
  },
  {
   "cell_type": "markdown",
   "id": "afe56941",
   "metadata": {},
   "source": [
    "The output displays the counts of each unique value in the variable Education (years). The first row lists the unique values of the variable (i.e., the different years of education), while the second row shows how many observations fall into each category. For example, there are 2 people with 4 years of education, 1 person with 5 years, and so on. "
   ]
  },
  {
   "cell_type": "markdown",
   "id": "e564a984",
   "metadata": {},
   "source": [
    "### 2.2 Bar charts \n",
    "\n",
    "To create a plot with **ggplot2**, you start by calling the `ggplot()` function, where you specify the dataset and map variables to aesthetics inside `aes()`.\n",
    "\n",
    "```r\n",
    "ggplot(data =  your_data , aes(x = your_x_variable)) +    \n",
    "  geom_bar() +  \n",
    "  labs(title = \"graph_title\",  \n",
    "       x = \"X Axis title\",  \n",
    "       y = \"Y axis title\")\n",
    "\n",
    "```\n",
    "\n",
    "What this function is doing:\n",
    "\n",
    "- ggplot(data = data, aes(x = ...)): Initializes the plot with the data and defines which variable goes on the x-axis.\n",
    "- geom_bar(): Adds a bar chart layer that counts the occurrences of each category in the x variable.\n",
    "- labs(): Adds labels for the title, x-axis, and y-axis to make the plot easier to understand.\n",
    "\n",
    "In our case, we can plot the barchart of education as:\n"
   ]
  },
  {
   "cell_type": "code",
   "execution_count": 9,
   "id": "96d30266",
   "metadata": {
    "vscode": {
     "languageId": "r"
    }
   },
   "outputs": [
    {
     "data": {
      "image/png": "[encoded data removed]",
      "text/plain": [
       "plot without title"
      ]
     },
     "metadata": {
      "image/png": {
       "height": 420,
       "width": 420
      }
     },
     "output_type": "display_data"
    }
   ],
   "source": [
    "ggplot(data = data, aes(x = `Education (years)`)) +    \n",
    "geom_bar() +  \n",
    "labs(title = \"Education (years)\",  \n",
    "      x = \"Years of education\",  \n",
    "      y = \"Frequency\")"
   ]
  },
  {
   "cell_type": "markdown",
   "id": "1646b617",
   "metadata": {},
   "source": [
    "We can further customize the plot axes to show all category numbers by using `scale_x_continuous()` and specifying the breaks. For example, to show all years from 1 to 18 on the x-axis, use:"
   ]
  },
  {
   "cell_type": "code",
   "execution_count": 10,
   "id": "68798981",
   "metadata": {
    "vscode": {
     "languageId": "r"
    }
   },
   "outputs": [
    {
     "data": {
      "image/png": "[encoded data removed]",
      "text/plain": [
       "plot without title"
      ]
     },
     "metadata": {
      "image/png": {
       "height": 420,
       "width": 420
      }
     },
     "output_type": "display_data"
    }
   ],
   "source": [
    "ggplot(data = data, aes(x = `Education (years)`)) +\n",
    "  geom_bar() +  \n",
    "  scale_x_continuous(breaks = 1:18) +\n",
    "  labs(title = \"Education (years)\",\n",
    "       x = \"Years of education\",\n",
    "       y = \"Frequency\")\n"
   ]
  },
  {
   "cell_type": "markdown",
   "id": "55bdab23",
   "metadata": {},
   "source": [
    "Additionally, you can save your plot either by using R commands such as `ggsave(\"path/filename.png\")` or by manually exporting the image from the plot pressing on the disk. "
   ]
  },
  {
   "cell_type": "markdown",
   "id": "ff320ad9",
   "metadata": {},
   "source": [
    "### 2.3 Histograms\n",
    "\n",
    "A **histogram** is a graphical representation that shows the distribution of data by grouping values into bins (intervals) and displaying the density of observations in each bin. \n",
    "\n",
    "\n",
    "To create a histogram in R using `ggplot2`, we simply need to change the geometry object:"
   ]
  },
  {
   "cell_type": "code",
   "execution_count": 11,
   "id": "59f0316c",
   "metadata": {
    "vscode": {
     "languageId": "r"
    }
   },
   "outputs": [
    {
     "data": {
      "image/png": "[encoded data removed]",
      "text/plain": [
       "plot without title"
      ]
     },
     "metadata": {
      "image/png": {
       "height": 420,
       "width": 420
      }
     },
     "output_type": "display_data"
    }
   ],
   "source": [
    "\n",
    "ggplot(data = data, aes(x = `Education (years)`), y=..density..) + \n",
    "  geom_histogram(binwidth = 1) +\n",
    "  labs(title = \"Histogram of Education (years)\",\n",
    "       x = \"Years of education\",\n",
    "       y = \"Density\")"
   ]
  },
  {
   "cell_type": "markdown",
   "id": "73e33ed5",
   "metadata": {},
   "source": [
    "The most important difference between calling `ggplot` for the histogram and for the frequency table is `geom_histogram(binwidth = 1)`.\n",
    "This adds a histogram layer to the plot. The `binwidth = 1` argument sets the width of each bin (interval) to 1 unit, grouping the data into bins of size 1 along the x-axis. When you use density in `aes(x = `Education (years)`, y = ..density..)` the histogram is scaled so that the area under the histogram sums to 1. Remeber that histograms are about density. \n",
    "\n",
    "❓**Compare the histogram with the frequency table you created earlier:**\n",
    "\n",
    "**1. What different information does each provide?**\n",
    "\n",
    "**2. Which one is more useful for understanding the overall shape and spread of the data?**\n",
    "\n",
    "**3. What happens when you increase the `binwidth` in a histogram? How does it affect the representation of the data?**  \n",
    "\n",
    "**4. In which scenario is it that the histogram bars are equivalent to frequency counts?**"
   ]
  },
  {
   "cell_type": "markdown",
   "id": "f1a3af32",
   "metadata": {},
   "source": [
    "### 2.4 Pie Charts \n",
    "\n",
    "A **pie chart** is a circular graph divided into slices to illustrate **numerical proportions**. Each slice of the pie represents a category, and the size of the slice is proportional to the **count** or **percentage** of observations in that category relative to the total. Pie charts are particularly useful when you want to visualize the **distribution of a categorical variable** and show how each category compares to the whole.\n",
    "\n",
    "**When to Use a Pie Chart?**\n",
    "- You are working with **categorical** data.\n",
    "- You want to emphasize **part-to-whole** relationships.\n",
    "- There are relatively **few categories**. \n",
    "\n",
    "**To create a pie chart in R using `ggplot2`:**\n",
    "\n",
    "1. Summarize your data\n",
    "    You first need a frequency table (a summary) of the variable you want to show. This tells us how many times each category appears.\n",
    "\n",
    "2. Create a bar plot\n",
    "    Even though we want a circular chart, we actually start by making a bar plot of the counts. Each bar will represent a slice of the pie.\n",
    "\n",
    "3. Transform the bar plot into a circle\n",
    "    You convert the bar plot into a pie chart by switching the coordinate system using `coord_polar(\"y\")`. This \"bends\" the bars around a circle.\n",
    "\n",
    "4. Label and customize the chart\n",
    "\n"
   ]
  },
  {
   "cell_type": "code",
   "execution_count": 12,
   "id": "8590c147",
   "metadata": {
    "vscode": {
     "languageId": "r"
    }
   },
   "outputs": [
    {
     "data": {
      "image/png": "[encoded data removed]",
      "text/plain": [
       "plot without title"
      ]
     },
     "metadata": {
      "image/png": {
       "height": 420,
       "width": 420
      }
     },
     "output_type": "display_data"
    }
   ],
   "source": [
    "# 1. create a frequency table (you know this already)\n",
    "freq_table <- table(data$`Education (years)`)\n",
    "\n",
    "# 2: Convert the table to a data frame (more on data frames next session)\n",
    "df_freq <- as.data.frame(freq_table)\n",
    "colnames(df_freq) <- c(\"Education\", \"Count\")\n",
    "\n",
    "# 3: build the pie chart by chaning the plot\n",
    "ggplot(df_freq, aes(x = \"\", y = Count, fill = factor(Education))) +\n",
    "  geom_bar(width = 1, stat = \"identity\") +      # we first create a bar chart\n",
    "  coord_polar(theta = \"y\") +                    # we then convert to a pie chart\n",
    "  labs(title = \"Pie Chart of Education (years)\",\n",
    "       fill = \"Years of Education\") +\n",
    "  theme_void()                                  # eliminates axis"
   ]
  },
  {
   "cell_type": "markdown",
   "id": "036df9eb",
   "metadata": {},
   "source": [
    "Creating a pie chart with R is relatively easy — just a few lines of code! But imagine trying to make one by hand. What would you need?\n",
    "\n",
    "You'd not only need a ruler to draw a perfect circle, but also a protractor (or calculator) to figure out the angle for each slice of the pie. Why?\n",
    "\n",
    "Because each category's share must be represented as a proportion of 360 degrees — the total angle of a circle.\n",
    "\n",
    "For example, if a category makes up 25% of the total, it should take up: 25% of 360° = 90°\n",
    "\n",
    "That’s why, even though computers can handle all the geometry for us, it’s still important to understand the logic behind pie charts: they display relative proportions by dividing a circle into segments, where each angle reflects the percentage of the category it represents.\n",
    "\n",
    "> **Note:**  \n",
    "> We said pie charts are most effective when there are **relatively few categories** — typically **fewer than 6**:  \n",
    "> \n",
    "> - The more categories you add, the **smaller each slice becomes**, especially when values are relatively equal. For example, with **6 equally sized categories**, each slice would be about **60°**. Smaller angles are mor difficult for our eyes to understand. \n",
    "> - Colors become **hard to differentiate** when there are too many slices close together, making the chart difficult to read.  \n",
    "> - There can be **extreme cases**, like one big category and several tiny ones, but adding many categories will typically reduce clarity.  "
   ]
  },
  {
   "cell_type": "markdown",
   "id": "708a660a",
   "metadata": {},
   "source": [
    "## 3. Descriptive statistics \n",
    "\n",
    "\n",
    "We can use the `describe()` function from the package `psych` to get a comprehensive summary of your continuous variable. \n",
    "\n",
    "The output of this function will be: \n",
    "\n",
    "- **n:** Number of valid (non-missing) observations  \n",
    "- **mean:** Arithmetic mean  \n",
    "- **sd:** Standard deviation  \n",
    "- **median:** Median value  \n",
    "- **mad:** Median absolute deviation  \n",
    "- **min:** Minimum value  \n",
    "- **max:** Maximum value  \n",
    "- **range:** Range (max - min)  \n",
    "- **skew:** Skewness (measure of asymmetry)  \n",
    "- **kurtosis:** Kurtosis (measure of peakedness)  \n",
    "- **se:** Standard error of the mean \n",
    "\n",
    "Because the output from `describe()` will be a dataframe, we use `kable()` from the **knitr** package to create clean, well-formatted tables in R. It makes the output easier to read and present, especially in reports or notebooks, by converting data frames into neat tables with proper alignment and styling. This is particularly helpful when sharing results or embedding tables in documents.\n",
    "\n",
    "describe_output <- data.frame(describe(data$`Monthly wage (Eur)`))\n",
    "\n"
   ]
  },
  {
   "cell_type": "code",
   "execution_count": 13,
   "id": "7beb4907",
   "metadata": {
    "vscode": {
     "languageId": "r"
    }
   },
   "outputs": [],
   "source": [
    "describe_output <- data.frame(describe(data$`Monthly wage (Eur)`)) # always remember the quotes for variable names with spaces "
   ]
  },
  {
   "cell_type": "code",
   "execution_count": 14,
   "id": "509bad47",
   "metadata": {
    "vscode": {
     "languageId": "r"
    }
   },
   "outputs": [
    {
     "data": {
      "text/html": [
       "<table class=\"dataframe\">\n",
       "<caption>A data.frame: 1 × 13</caption>\n",
       "<thead>\n",
       "\t<tr><th></th><th scope=col>vars</th><th scope=col>n</th><th scope=col>mean</th><th scope=col>sd</th><th scope=col>median</th><th scope=col>trimmed</th><th scope=col>mad</th><th scope=col>min</th><th scope=col>max</th><th scope=col>range</th><th scope=col>skew</th><th scope=col>kurtosis</th><th scope=col>se</th></tr>\n",
       "\t<tr><th></th><th scope=col>&lt;dbl&gt;</th><th scope=col>&lt;dbl&gt;</th><th scope=col>&lt;dbl&gt;</th><th scope=col>&lt;dbl&gt;</th><th scope=col>&lt;dbl&gt;</th><th scope=col>&lt;dbl&gt;</th><th scope=col>&lt;dbl&gt;</th><th scope=col>&lt;dbl&gt;</th><th scope=col>&lt;dbl&gt;</th><th scope=col>&lt;dbl&gt;</th><th scope=col>&lt;dbl&gt;</th><th scope=col>&lt;dbl&gt;</th><th scope=col>&lt;dbl&gt;</th></tr>\n",
       "</thead>\n",
       "<tbody>\n",
       "\t<tr><th scope=row>X1</th><td>1</td><td>22</td><td>864.5455</td><td>251.6749</td><td>755</td><td>853.3333</td><td>237.216</td><td>550</td><td>1300</td><td>750</td><td>0.4636522</td><td>-1.380196</td><td>53.65727</td></tr>\n",
       "</tbody>\n",
       "</table>\n"
      ],
      "text/latex": [
       "A data.frame: 1 × 13\n",
       "\\begin{tabular}{r|lllllllllllll}\n",
       "  & vars & n & mean & sd & median & trimmed & mad & min & max & range & skew & kurtosis & se\\\\\n",
       "  & <dbl> & <dbl> & <dbl> & <dbl> & <dbl> & <dbl> & <dbl> & <dbl> & <dbl> & <dbl> & <dbl> & <dbl> & <dbl>\\\\\n",
       "\\hline\n",
       "\tX1 & 1 & 22 & 864.5455 & 251.6749 & 755 & 853.3333 & 237.216 & 550 & 1300 & 750 & 0.4636522 & -1.380196 & 53.65727\\\\\n",
       "\\end{tabular}\n"
      ],
      "text/markdown": [
       "\n",
       "A data.frame: 1 × 13\n",
       "\n",
       "| <!--/--> | vars &lt;dbl&gt; | n &lt;dbl&gt; | mean &lt;dbl&gt; | sd &lt;dbl&gt; | median &lt;dbl&gt; | trimmed &lt;dbl&gt; | mad &lt;dbl&gt; | min &lt;dbl&gt; | max &lt;dbl&gt; | range &lt;dbl&gt; | skew &lt;dbl&gt; | kurtosis &lt;dbl&gt; | se &lt;dbl&gt; |\n",
       "|---|---|---|---|---|---|---|---|---|---|---|---|---|---|\n",
       "| X1 | 1 | 22 | 864.5455 | 251.6749 | 755 | 853.3333 | 237.216 | 550 | 1300 | 750 | 0.4636522 | -1.380196 | 53.65727 |\n",
       "\n"
      ],
      "text/plain": [
       "   vars n  mean     sd       median trimmed  mad     min max  range skew     \n",
       "X1 1    22 864.5455 251.6749 755    853.3333 237.216 550 1300 750   0.4636522\n",
       "   kurtosis  se      \n",
       "X1 -1.380196 53.65727"
      ]
     },
     "metadata": {},
     "output_type": "display_data"
    }
   ],
   "source": [
    "describe_output"
   ]
  },
  {
   "cell_type": "code",
   "execution_count": 15,
   "id": "42cc3938",
   "metadata": {
    "vscode": {
     "languageId": "r"
    }
   },
   "outputs": [
    {
     "data": {
      "text/plain": [
       "\n",
       "\n",
       "|   | vars|  n|     mean|       sd| median|  trimmed|     mad| min|  max| range|      skew|  kurtosis|       se|\n",
       "|:--|----:|--:|--------:|--------:|------:|--------:|-------:|---:|----:|-----:|---------:|---------:|--------:|\n",
       "|X1 |    1| 22| 864.5455| 251.6749|    755| 853.3333| 237.216| 550| 1300|   750| 0.4636522| -1.380196| 53.65727|"
      ]
     },
     "metadata": {},
     "output_type": "display_data"
    }
   ],
   "source": [
    "kable(describe_output)"
   ]
  },
  {
   "cell_type": "markdown",
   "id": "b7b64163",
   "metadata": {},
   "source": [
    "Remember that in class we have learnt how to interpret this results: \n",
    "\n",
    "- When mean > median, the distribution is likely right-skewed (tail to the right).\n",
    "\n",
    "- Skewness > 1 or < -1 indicates a highly skewed distribution.\n",
    "\n",
    "- Kurtosis > 3 suggests heavier tails than a normal distribution (more extreme values).\n",
    "\n",
    "❓ **Can you apply this to the monthly wage we just described?**\n",
    "\n",
    "We can summarize multiple variables by generating separate descriptive statistics for each variable and then combining them by rows. \n",
    "\n",
    "For example, we create one description for each variable using the `describe()` function, which returns a data frame of statistics identified by their names (e.g., mean, sd, median). We then join these data frames together row-wise to have all summaries in one table.\n",
    "\n",
    "We will learn more about how to **merge** and manipulate data frames in the next session, but the key idea here is that we can produce dta frames with `describe()` that can  then be combined and reshaped for easier comparison and presentation.\n",
    "\n",
    "Let's see it in practice: "
   ]
  },
  {
   "cell_type": "code",
   "execution_count": 16,
   "id": "85f7fc85",
   "metadata": {
    "vscode": {
     "languageId": "r"
    }
   },
   "outputs": [],
   "source": [
    "# 1. Calculate descriptive statistics and convert to dataframe \n",
    "descriptive_var1 <- data.frame(describe(data$`Monthly wage (Eur)`))\n",
    "descriptive_var2 <- data.frame(describe(data$`Education (years)`))"
   ]
  },
  {
   "cell_type": "code",
   "execution_count": 17,
   "id": "d299a220",
   "metadata": {
    "vscode": {
     "languageId": "r"
    }
   },
   "outputs": [
    {
     "data": {
      "text/html": [
       "'data.frame'"
      ],
      "text/latex": [
       "'data.frame'"
      ],
      "text/markdown": [
       "'data.frame'"
      ],
      "text/plain": [
       "[1] \"data.frame\""
      ]
     },
     "metadata": {},
     "output_type": "display_data"
    }
   ],
   "source": [
    "class(descriptive_var1)"
   ]
  },
  {
   "cell_type": "markdown",
   "id": "0c8441d3",
   "metadata": {},
   "source": [
    "We can combine them using `rbind()`. Because `describe()` gives us all by rows, this combination will just add another row to our first descriptive data frame. We will transpose it  using `t()` (the very same operation as with matrices!) to obtain a column data frame. "
   ]
  },
  {
   "cell_type": "code",
   "execution_count": 18,
   "id": "2569e50e",
   "metadata": {
    "vscode": {
     "languageId": "r"
    }
   },
   "outputs": [],
   "source": [
    "combined_descriptive <- rbind.data.frame(descriptive_var1, descriptive_var2)\n"
   ]
  },
  {
   "cell_type": "code",
   "execution_count": 19,
   "id": "f70ce301",
   "metadata": {
    "vscode": {
     "languageId": "r"
    }
   },
   "outputs": [
    {
     "data": {
      "text/html": [
       "<table class=\"dataframe\">\n",
       "<caption>A data.frame: 2 × 13</caption>\n",
       "<thead>\n",
       "\t<tr><th></th><th scope=col>vars</th><th scope=col>n</th><th scope=col>mean</th><th scope=col>sd</th><th scope=col>median</th><th scope=col>trimmed</th><th scope=col>mad</th><th scope=col>min</th><th scope=col>max</th><th scope=col>range</th><th scope=col>skew</th><th scope=col>kurtosis</th><th scope=col>se</th></tr>\n",
       "\t<tr><th></th><th scope=col>&lt;dbl&gt;</th><th scope=col>&lt;dbl&gt;</th><th scope=col>&lt;dbl&gt;</th><th scope=col>&lt;dbl&gt;</th><th scope=col>&lt;dbl&gt;</th><th scope=col>&lt;dbl&gt;</th><th scope=col>&lt;dbl&gt;</th><th scope=col>&lt;dbl&gt;</th><th scope=col>&lt;dbl&gt;</th><th scope=col>&lt;dbl&gt;</th><th scope=col>&lt;dbl&gt;</th><th scope=col>&lt;dbl&gt;</th><th scope=col>&lt;dbl&gt;</th></tr>\n",
       "</thead>\n",
       "<tbody>\n",
       "\t<tr><th scope=row>X1</th><td>1</td><td>22</td><td>864.5455</td><td>251.674909</td><td>755</td><td>853.33333</td><td>237.2160</td><td>550</td><td>1300</td><td>750</td><td> 0.4636522</td><td>-1.380196</td><td>53.6572709</td></tr>\n",
       "\t<tr><th scope=row>X11</th><td>1</td><td>22</td><td> 11.0000</td><td>  4.309458</td><td> 12</td><td> 11.11111</td><td>  4.4478</td><td>  4</td><td>  18</td><td> 14</td><td>-0.1533462</td><td>-1.387665</td><td> 0.9187795</td></tr>\n",
       "</tbody>\n",
       "</table>\n"
      ],
      "text/latex": [
       "A data.frame: 2 × 13\n",
       "\\begin{tabular}{r|lllllllllllll}\n",
       "  & vars & n & mean & sd & median & trimmed & mad & min & max & range & skew & kurtosis & se\\\\\n",
       "  & <dbl> & <dbl> & <dbl> & <dbl> & <dbl> & <dbl> & <dbl> & <dbl> & <dbl> & <dbl> & <dbl> & <dbl> & <dbl>\\\\\n",
       "\\hline\n",
       "\tX1 & 1 & 22 & 864.5455 & 251.674909 & 755 & 853.33333 & 237.2160 & 550 & 1300 & 750 &  0.4636522 & -1.380196 & 53.6572709\\\\\n",
       "\tX11 & 1 & 22 &  11.0000 &   4.309458 &  12 &  11.11111 &   4.4478 &   4 &   18 &  14 & -0.1533462 & -1.387665 &  0.9187795\\\\\n",
       "\\end{tabular}\n"
      ],
      "text/markdown": [
       "\n",
       "A data.frame: 2 × 13\n",
       "\n",
       "| <!--/--> | vars &lt;dbl&gt; | n &lt;dbl&gt; | mean &lt;dbl&gt; | sd &lt;dbl&gt; | median &lt;dbl&gt; | trimmed &lt;dbl&gt; | mad &lt;dbl&gt; | min &lt;dbl&gt; | max &lt;dbl&gt; | range &lt;dbl&gt; | skew &lt;dbl&gt; | kurtosis &lt;dbl&gt; | se &lt;dbl&gt; |\n",
       "|---|---|---|---|---|---|---|---|---|---|---|---|---|---|\n",
       "| X1 | 1 | 22 | 864.5455 | 251.674909 | 755 | 853.33333 | 237.2160 | 550 | 1300 | 750 |  0.4636522 | -1.380196 | 53.6572709 |\n",
       "| X11 | 1 | 22 |  11.0000 |   4.309458 |  12 |  11.11111 |   4.4478 |   4 |   18 |  14 | -0.1533462 | -1.387665 |  0.9187795 |\n",
       "\n"
      ],
      "text/plain": [
       "    vars n  mean     sd         median trimmed   mad      min max  range\n",
       "X1  1    22 864.5455 251.674909 755    853.33333 237.2160 550 1300 750  \n",
       "X11 1    22  11.0000   4.309458  12     11.11111   4.4478   4   18  14  \n",
       "    skew       kurtosis  se        \n",
       "X1   0.4636522 -1.380196 53.6572709\n",
       "X11 -0.1533462 -1.387665  0.9187795"
      ]
     },
     "metadata": {},
     "output_type": "display_data"
    }
   ],
   "source": [
    "combined_descriptive"
   ]
  },
  {
   "cell_type": "code",
   "execution_count": 20,
   "id": "50a0699c",
   "metadata": {
    "vscode": {
     "languageId": "r"
    }
   },
   "outputs": [
    {
     "data": {
      "text/html": [
       "<table class=\"dataframe\">\n",
       "<caption>A matrix: 13 × 2 of type dbl</caption>\n",
       "<thead>\n",
       "\t<tr><th></th><th scope=col>X1</th><th scope=col>X11</th></tr>\n",
       "</thead>\n",
       "<tbody>\n",
       "\t<tr><th scope=row>vars</th><td>   1.0000000</td><td> 1.0000000</td></tr>\n",
       "\t<tr><th scope=row>n</th><td>  22.0000000</td><td>22.0000000</td></tr>\n",
       "\t<tr><th scope=row>mean</th><td> 864.5454545</td><td>11.0000000</td></tr>\n",
       "\t<tr><th scope=row>sd</th><td> 251.6749088</td><td> 4.3094580</td></tr>\n",
       "\t<tr><th scope=row>median</th><td> 755.0000000</td><td>12.0000000</td></tr>\n",
       "\t<tr><th scope=row>trimmed</th><td> 853.3333333</td><td>11.1111111</td></tr>\n",
       "\t<tr><th scope=row>mad</th><td> 237.2160000</td><td> 4.4478000</td></tr>\n",
       "\t<tr><th scope=row>min</th><td> 550.0000000</td><td> 4.0000000</td></tr>\n",
       "\t<tr><th scope=row>max</th><td>1300.0000000</td><td>18.0000000</td></tr>\n",
       "\t<tr><th scope=row>range</th><td> 750.0000000</td><td>14.0000000</td></tr>\n",
       "\t<tr><th scope=row>skew</th><td>   0.4636522</td><td>-0.1533462</td></tr>\n",
       "\t<tr><th scope=row>kurtosis</th><td>  -1.3801957</td><td>-1.3876654</td></tr>\n",
       "\t<tr><th scope=row>se</th><td>  53.6572709</td><td> 0.9187795</td></tr>\n",
       "</tbody>\n",
       "</table>\n"
      ],
      "text/latex": [
       "A matrix: 13 × 2 of type dbl\n",
       "\\begin{tabular}{r|ll}\n",
       "  & X1 & X11\\\\\n",
       "\\hline\n",
       "\tvars &    1.0000000 &  1.0000000\\\\\n",
       "\tn &   22.0000000 & 22.0000000\\\\\n",
       "\tmean &  864.5454545 & 11.0000000\\\\\n",
       "\tsd &  251.6749088 &  4.3094580\\\\\n",
       "\tmedian &  755.0000000 & 12.0000000\\\\\n",
       "\ttrimmed &  853.3333333 & 11.1111111\\\\\n",
       "\tmad &  237.2160000 &  4.4478000\\\\\n",
       "\tmin &  550.0000000 &  4.0000000\\\\\n",
       "\tmax & 1300.0000000 & 18.0000000\\\\\n",
       "\trange &  750.0000000 & 14.0000000\\\\\n",
       "\tskew &    0.4636522 & -0.1533462\\\\\n",
       "\tkurtosis &   -1.3801957 & -1.3876654\\\\\n",
       "\tse &   53.6572709 &  0.9187795\\\\\n",
       "\\end{tabular}\n"
      ],
      "text/markdown": [
       "\n",
       "A matrix: 13 × 2 of type dbl\n",
       "\n",
       "| <!--/--> | X1 | X11 |\n",
       "|---|---|---|\n",
       "| vars |    1.0000000 |  1.0000000 |\n",
       "| n |   22.0000000 | 22.0000000 |\n",
       "| mean |  864.5454545 | 11.0000000 |\n",
       "| sd |  251.6749088 |  4.3094580 |\n",
       "| median |  755.0000000 | 12.0000000 |\n",
       "| trimmed |  853.3333333 | 11.1111111 |\n",
       "| mad |  237.2160000 |  4.4478000 |\n",
       "| min |  550.0000000 |  4.0000000 |\n",
       "| max | 1300.0000000 | 18.0000000 |\n",
       "| range |  750.0000000 | 14.0000000 |\n",
       "| skew |    0.4636522 | -0.1533462 |\n",
       "| kurtosis |   -1.3801957 | -1.3876654 |\n",
       "| se |   53.6572709 |  0.9187795 |\n",
       "\n"
      ],
      "text/plain": [
       "         X1           X11       \n",
       "vars        1.0000000  1.0000000\n",
       "n          22.0000000 22.0000000\n",
       "mean      864.5454545 11.0000000\n",
       "sd        251.6749088  4.3094580\n",
       "median    755.0000000 12.0000000\n",
       "trimmed   853.3333333 11.1111111\n",
       "mad       237.2160000  4.4478000\n",
       "min       550.0000000  4.0000000\n",
       "max      1300.0000000 18.0000000\n",
       "range     750.0000000 14.0000000\n",
       "skew        0.4636522 -0.1533462\n",
       "kurtosis   -1.3801957 -1.3876654\n",
       "se         53.6572709  0.9187795"
      ]
     },
     "metadata": {},
     "output_type": "display_data"
    }
   ],
   "source": [
    "transposed_descriptive <- t(combined_descriptive)\n",
    "transposed_descriptive"
   ]
  },
  {
   "cell_type": "markdown",
   "id": "987617d2",
   "metadata": {},
   "source": [
    "To be able to edit it easily, we are going to convert it to a data frame and will change the name of variables. "
   ]
  },
  {
   "cell_type": "code",
   "execution_count": 21,
   "id": "a1cf2ded",
   "metadata": {
    "vscode": {
     "languageId": "r"
    }
   },
   "outputs": [],
   "source": [
    "transposed_df <- as.data.frame(transposed_descriptive)\n",
    "colnames(transposed_df) <- c(\"Monthly wage (Eur)\", \"Education (years)\")"
   ]
  },
  {
   "cell_type": "markdown",
   "id": "99109e6f",
   "metadata": {},
   "source": [
    "The function `colnames()` in R is used to get or set the column names of our dataframe and retrieves the current column names of the. \n",
    "Because we use it with the assignment operator `<-`, it sets or changes the column names of transposed_df to the specified character vector.\n",
    "\n",
    "In this example, the two columns of `transposed_df` are renamed to \"Monthly wage (Eur)\" and \"Education (years)\".\n",
    "\n",
    "We will finish the formatting by rounding our numbers and reformatting to a table with `kable()`"
   ]
  },
  {
   "cell_type": "code",
   "execution_count": 22,
   "id": "fb9a48ee",
   "metadata": {
    "vscode": {
     "languageId": "r"
    }
   },
   "outputs": [],
   "source": [
    "rows_to_round <- c(\"mean\", \"sd\", \"median\", \"trimmed\", \"mad\", \"skew\", \"kurtosis\", \"se\")\n",
    "transposed_df[rownames(transposed_df) %in% rows_to_round, ] <- round(transposed_df[rownames(transposed_df) %in% rows_to_round, ], 1)\n"
   ]
  },
  {
   "cell_type": "markdown",
   "id": "db247b0a",
   "metadata": {},
   "source": [
    "This is working by creating a vector named `rows_to_round` that contains the names of the summary statistics we want to round to one decimal place. Then, we select the rows in `transposed_df` whose row names match any of the names in `rows_to_round`. This selection is performed using the expression `rownames(transposed_df) %in% rows_to_round`, which returns a logical vector indicating which rows to keep. After, we apply the `round()` function to these selected rows, rounding each numeric value to 1 decimal place. Finally, we assign the rounded values back to the same rows in the transposed_df data frame, updating it in place. "
   ]
  },
  {
   "cell_type": "code",
   "execution_count": 23,
   "id": "3a739fb1",
   "metadata": {
    "vscode": {
     "languageId": "r"
    }
   },
   "outputs": [
    {
     "data": {
      "text/plain": [
       "\n",
       "\n",
       "|         | Monthly wage (Eur)| Education (years)|\n",
       "|:--------|------------------:|-----------------:|\n",
       "|vars     |                1.0|               1.0|\n",
       "|n        |               22.0|              22.0|\n",
       "|mean     |              864.5|              11.0|\n",
       "|sd       |              251.7|               4.3|\n",
       "|median   |              755.0|              12.0|\n",
       "|trimmed  |              853.3|              11.1|\n",
       "|mad      |              237.2|               4.4|\n",
       "|min      |              550.0|               4.0|\n",
       "|max      |             1300.0|              18.0|\n",
       "|range    |              750.0|              14.0|\n",
       "|skew     |                0.5|              -0.2|\n",
       "|kurtosis |               -1.4|              -1.4|\n",
       "|se       |               53.7|               0.9|"
      ]
     },
     "metadata": {},
     "output_type": "display_data"
    }
   ],
   "source": [
    "kable(transposed_df)"
   ]
  },
  {
   "cell_type": "markdown",
   "id": "734c7b25",
   "metadata": {},
   "source": [
    "You can select the displayed table in your R environment and simply copy-paste it into Excel or other applications for further use.\n",
    "Alternatively, you can export the table programmatically using packages like `clipr`, which allows you to copy data directly to the system clipboard. "
   ]
  },
  {
   "cell_type": "code",
   "execution_count": 26,
   "id": "ce4291bb",
   "metadata": {
    "vscode": {
     "languageId": "r"
    }
   },
   "outputs": [],
   "source": [
    "library(clipr)\n",
    "write_clip(transposed_df, allow_non_interactive = TRUE) "
   ]
  }
 ],
 "metadata": {
  "kernelspec": {
   "display_name": "R",
   "language": "R",
   "name": "ir"
  },
  "language_info": {
   "codemirror_mode": "r",
   "file_extension": ".r",
   "mimetype": "text/x-r-source",
   "name": "R",
   "pygments_lexer": "r",
   "version": "4.4.3"
  }
 },
 "nbformat": 4,
 "nbformat_minor": 5
}
