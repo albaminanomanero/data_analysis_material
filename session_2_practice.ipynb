{
 "cells": [
  {
   "cell_type": "markdown",
   "id": "73eab60a",
   "metadata": {
    "vscode": {
     "languageId": "r"
    }
   },
   "source": [
    "## Session 2: practice exercises on descriptive statistics. \n",
    "\n",
    "1. **Create Frequency Tables and Bar Plots**\n",
    "\n",
    "   - Using the dataset, create a frequency table for the variable of `Monthly wage (Eur)`\n",
    "   - Plot a bar chart of `Monthly wage (Eur)`.\n",
    "   - Interpret the distribution from the frequency table and bar plot.\n",
    "\n",
    "2. **Histograms and Skewness**\n",
    "\n",
    "   - Plot a histogram of `Monthly wage (Eur)` using `ggplot2` with `binwidth = 500` (or an appropriate bin size).\n",
    "   - Create a second histogram with the `aes(y = ..density..)` to show the density instead of frequency.\n",
    "   - Based on the histogram and desciprive statistics, determine whether the wage distribution is skewed to the right, left, or symmetric.\n",
    "   - Explain how the histogram shape matches the skewness value from the descriptive statistics.\n",
    "\n",
    "5. **Interpret a Pie Chart**\n",
    "\n",
    "   - Create a pie chart representing the categories of `Monthly wage (Eur)` (group values into ranges if there are too many unique values).\n",
    "    - **Do you think the pie chart is misleading?** If so, explain **why**, based on the limitations we've just discussed (e.g., too many categories, similar slice sizes, difficulty distinguishing colors).\n",
    "    - What are some alternative visualizations that would represent the same data **more clearly**?"
   ]
  },
  {
   "cell_type": "markdown",
   "id": "a0a14bd3",
   "metadata": {},
   "source": []
  }
 ],
 "metadata": {
  "kernelspec": {
   "display_name": "R",
   "language": "R",
   "name": "ir"
  },
  "language_info": {
   "name": "R",
   "version": "3.13.5"
  }
 },
 "nbformat": 4,
 "nbformat_minor": 5
}
