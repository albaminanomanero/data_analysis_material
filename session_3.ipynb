{
 "cells": [
  {
   "cell_type": "markdown",
   "id": "b98145d6",
   "metadata": {},
   "source": [
    "# Session 3: Getting to Know Your Data – Comparing groups & measuring inequality with R\n",
    "### Data analysis for Economics and Management (Academic Course 2025-2026)\n",
    "\n",
    "Alba Miñano-Mañero (alba.minano@iseg.ulisboa.pt)\n",
    "\n",
    "Today’s session builds on your R skills to help you summarize, compare, and interpret data across groups, as well as explore measures of inequality. We'll begin by reviewing how to generate descriptive statistics and compare differences between two or more samples. Then, we’ll introduce tools to visualize those differences, including boxplots and density plots. Finally, we’ll explore the Gini index and Lorenz curves as ways to represent and quantify inequality.\n",
    "\n",
    "As part of our basics of programming, we’ll also learn about the main data structures in R—such as vectors, lists, data frames, and matrices. \n",
    "\n",
    "We’ll also cover how to use the natural logarithm transformation to handle skewed data—an important technique when working with income or wealth distributions.\n",
    "\n",
    "We'll devote the final part of the session to exam-style practice questions using Qiseflow, giving you a chance to apply what you've learned in a more applied context.\n",
    "\n",
    "By the end of this session, you should be able to:\n",
    "\n",
    "1. Compute and interpret basic descriptive statistics by group\n",
    "\n",
    "2. Use R to compare two or more samples using summaries and plots\n",
    "\n",
    "3. Visualize group differences using boxplots, density plots, and histograms\n",
    "\n",
    "4. Apply and interpret the log transformation to address skewed variables\n",
    "\n",
    "5. Calculate the Gini index and draw Lorenz curves\n"
   ]
  },
  {
   "cell_type": "markdown",
   "id": "bfacfdac",
   "metadata": {},
   "source": [
    "## 1. Data structures in R \n",
    "\n",
    "Last week, we explored the fundamental types of data in R—such as numeric, character, logical, and factor. Today, we shift our focus to containers: the data structures R uses to store and organize data efficiently.\n",
    "\n",
    "Just as understanding data types is essential, having a clear grasp of the various data structures is crucial because many R functions are designed to work with specific structures. Knowing which container to use and how it behaves will help you write more effective and error-free code.\n",
    "\n",
    "1. **Vectors**\n",
    "\n",
    "    Vectors are one-dimensional, ordered collections of elements that all share the same data type—making them homogeneous data structures. \n",
    "    Each element in a vector has a specific position (or index), and the vector has a defined length. Because all elements must be of the identical type, vectors can't store not a mix of types.\n"
   ]
  },
  {
   "cell_type": "code",
   "execution_count": 1,
   "id": "864ec88a",
   "metadata": {
    "vscode": {
     "languageId": "r"
    }
   },
   "outputs": [],
   "source": [
    "nums <- c(1, 2, 3, 4)          # numeric vector\n",
    "chars <- c(\"apple\", \"banana\") # character vector\n",
    "logic <- c(TRUE, FALSE)       # logical vector"
   ]
  },
  {
   "cell_type": "code",
   "execution_count": 2,
   "id": "b458a3f0",
   "metadata": {
    "vscode": {
     "languageId": "r"
    }
   },
   "outputs": [
    {
     "data": {
      "text/html": [
       "<style>\n",
       ".list-inline {list-style: none; margin:0; padding: 0}\n",
       ".list-inline>li {display: inline-block}\n",
       ".list-inline>li:not(:last-child)::after {content: \"\\00b7\"; padding: 0 .5ex}\n",
       "</style>\n",
       "<ol class=list-inline><li>1</li><li>2</li><li>3</li><li>4</li></ol>\n"
      ],
      "text/latex": [
       "\\begin{enumerate*}\n",
       "\\item 1\n",
       "\\item 2\n",
       "\\item 3\n",
       "\\item 4\n",
       "\\end{enumerate*}\n"
      ],
      "text/markdown": [
       "1. 1\n",
       "2. 2\n",
       "3. 3\n",
       "4. 4\n",
       "\n",
       "\n"
      ],
      "text/plain": [
       "[1] 1 2 3 4"
      ]
     },
     "metadata": {},
     "output_type": "display_data"
    },
    {
     "data": {
      "text/html": [
       "<style>\n",
       ".list-inline {list-style: none; margin:0; padding: 0}\n",
       ".list-inline>li {display: inline-block}\n",
       ".list-inline>li:not(:last-child)::after {content: \"\\00b7\"; padding: 0 .5ex}\n",
       "</style>\n",
       "<ol class=list-inline><li>'apple'</li><li>'banana'</li></ol>\n"
      ],
      "text/latex": [
       "\\begin{enumerate*}\n",
       "\\item 'apple'\n",
       "\\item 'banana'\n",
       "\\end{enumerate*}\n"
      ],
      "text/markdown": [
       "1. 'apple'\n",
       "2. 'banana'\n",
       "\n",
       "\n"
      ],
      "text/plain": [
       "[1] \"apple\"  \"banana\""
      ]
     },
     "metadata": {},
     "output_type": "display_data"
    },
    {
     "data": {
      "text/html": [
       "<style>\n",
       ".list-inline {list-style: none; margin:0; padding: 0}\n",
       ".list-inline>li {display: inline-block}\n",
       ".list-inline>li:not(:last-child)::after {content: \"\\00b7\"; padding: 0 .5ex}\n",
       "</style>\n",
       "<ol class=list-inline><li>TRUE</li><li>FALSE</li></ol>\n"
      ],
      "text/latex": [
       "\\begin{enumerate*}\n",
       "\\item TRUE\n",
       "\\item FALSE\n",
       "\\end{enumerate*}\n"
      ],
      "text/markdown": [
       "1. TRUE\n",
       "2. FALSE\n",
       "\n",
       "\n"
      ],
      "text/plain": [
       "[1]  TRUE FALSE"
      ]
     },
     "metadata": {},
     "output_type": "display_data"
    }
   ],
   "source": [
    "nums\n",
    "chars\n",
    "logic"
   ]
  },
  {
   "cell_type": "markdown",
   "id": "8906d4f0",
   "metadata": {},
   "source": [
    "To access elements, use square brackets and index from 1 (R starts counting at 1):"
   ]
  },
  {
   "cell_type": "code",
   "execution_count": 3,
   "id": "a3bef026",
   "metadata": {
    "vscode": {
     "languageId": "r"
    }
   },
   "outputs": [
    {
     "data": {
      "text/html": [
       "1"
      ],
      "text/latex": [
       "1"
      ],
      "text/markdown": [
       "1"
      ],
      "text/plain": [
       "[1] 1"
      ]
     },
     "metadata": {},
     "output_type": "display_data"
    },
    {
     "data": {
      "text/html": [
       "<style>\n",
       ".list-inline {list-style: none; margin:0; padding: 0}\n",
       ".list-inline>li {display: inline-block}\n",
       ".list-inline>li:not(:last-child)::after {content: \"\\00b7\"; padding: 0 .5ex}\n",
       "</style>\n",
       "<ol class=list-inline><li>1</li><li>3</li><li>4</li></ol>\n"
      ],
      "text/latex": [
       "\\begin{enumerate*}\n",
       "\\item 1\n",
       "\\item 3\n",
       "\\item 4\n",
       "\\end{enumerate*}\n"
      ],
      "text/markdown": [
       "1. 1\n",
       "2. 3\n",
       "3. 4\n",
       "\n",
       "\n"
      ],
      "text/plain": [
       "[1] 1 3 4"
      ]
     },
     "metadata": {},
     "output_type": "display_data"
    }
   ],
   "source": [
    "nums[1]   # first element\n",
    "nums[-2]  # all except second"
   ]
  },
  {
   "cell_type": "markdown",
   "id": "0ef2ddce",
   "metadata": {},
   "source": [
    "2. **Lists**\n",
    "\n",
    "    Lists are one-dimensional, ordered collections of objects that can be of different types—making them heterogeneous data structures. That is,  lists can hold a mix of data types within the same structure. For example, a list can contain vectors, matrices, characters, functions, or even other lists. You create a list using the `list()` function:"
   ]
  },
  {
   "cell_type": "code",
   "execution_count": 4,
   "id": "e8274498",
   "metadata": {
    "vscode": {
     "languageId": "r"
    }
   },
   "outputs": [
    {
     "name": "stdout",
     "output_type": "stream",
     "text": [
      "[[1]]\n",
      "[1] \"a\"\n",
      "\n",
      "[[2]]\n",
      "[1] 2\n",
      "\n",
      "[[3]]\n",
      "[[3]][[1]]\n",
      "[1] \"a\"\n",
      "\n",
      "[[3]][[2]]\n",
      "[1] TRUE\n",
      "\n",
      "\n"
     ]
    }
   ],
   "source": [
    "this_is_list <- list('a', 2, list('a', TRUE))\n",
    "print(this_is_list)"
   ]
  },
  {
   "cell_type": "markdown",
   "id": "ab8758b0",
   "metadata": {},
   "source": [
    "You can access elements of a list using double square brackets [[ ]] for individual elements or single brackets [ ] to get sublists:\n"
   ]
  },
  {
   "cell_type": "code",
   "execution_count": 5,
   "id": "c44a7a9b",
   "metadata": {
    "vscode": {
     "languageId": "r"
    }
   },
   "outputs": [
    {
     "data": {
      "text/html": [
       "<ol>\n",
       "\t<li>'a'</li>\n",
       "\t<li>TRUE</li>\n",
       "</ol>\n"
      ],
      "text/latex": [
       "\\begin{enumerate}\n",
       "\\item 'a'\n",
       "\\item TRUE\n",
       "\\end{enumerate}\n"
      ],
      "text/markdown": [
       "1. 'a'\n",
       "2. TRUE\n",
       "\n",
       "\n"
      ],
      "text/plain": [
       "[[1]]\n",
       "[1] \"a\"\n",
       "\n",
       "[[2]]\n",
       "[1] TRUE\n"
      ]
     },
     "metadata": {},
     "output_type": "display_data"
    },
    {
     "data": {
      "text/html": [
       "<ol>\n",
       "\t<li>'a'</li>\n",
       "\t<li>2</li>\n",
       "</ol>\n"
      ],
      "text/latex": [
       "\\begin{enumerate}\n",
       "\\item 'a'\n",
       "\\item 2\n",
       "\\end{enumerate}\n"
      ],
      "text/markdown": [
       "1. 'a'\n",
       "2. 2\n",
       "\n",
       "\n"
      ],
      "text/plain": [
       "[[1]]\n",
       "[1] \"a\"\n",
       "\n",
       "[[2]]\n",
       "[1] 2\n"
      ]
     },
     "metadata": {},
     "output_type": "display_data"
    }
   ],
   "source": [
    "\n",
    "this_is_list[[3]]  # Accesses the 3rd element, which is a nested list\n",
    "this_is_list[1:2]  # Accesses the first two elements, returns a sublist"
   ]
  },
  {
   "cell_type": "markdown",
   "id": "59cbcb65",
   "metadata": {},
   "source": [
    "You can add elements by assigning to a new position:"
   ]
  },
  {
   "cell_type": "code",
   "execution_count": 6,
   "id": "7bf0cf08",
   "metadata": {
    "vscode": {
     "languageId": "r"
    }
   },
   "outputs": [
    {
     "data": {
      "text/html": [
       "<ol>\n",
       "\t<li>'a'</li>\n",
       "\t<li>2</li>\n",
       "\t<li><ol>\n",
       "\t<li>'a'</li>\n",
       "\t<li>TRUE</li>\n",
       "</ol>\n",
       "</li>\n",
       "\t<li><ol>\n",
       "\t<li>'a'</li>\n",
       "\t<li>'b'</li>\n",
       "\t<li>'c'</li>\n",
       "</ol>\n",
       "</li>\n",
       "</ol>\n"
      ],
      "text/latex": [
       "\\begin{enumerate}\n",
       "\\item 'a'\n",
       "\\item 2\n",
       "\\item \\begin{enumerate}\n",
       "\\item 'a'\n",
       "\\item TRUE\n",
       "\\end{enumerate}\n",
       "\n",
       "\\item \\begin{enumerate}\n",
       "\\item 'a'\n",
       "\\item 'b'\n",
       "\\item 'c'\n",
       "\\end{enumerate}\n",
       "\n",
       "\\end{enumerate}\n"
      ],
      "text/markdown": [
       "1. 'a'\n",
       "2. 2\n",
       "3. 1. 'a'\n",
       "2. TRUE\n",
       "\n",
       "\n",
       "\n",
       "4. 1. 'a'\n",
       "2. 'b'\n",
       "3. 'c'\n",
       "\n",
       "\n",
       "\n",
       "\n",
       "\n"
      ],
      "text/plain": [
       "[[1]]\n",
       "[1] \"a\"\n",
       "\n",
       "[[2]]\n",
       "[1] 2\n",
       "\n",
       "[[3]]\n",
       "[[3]][[1]]\n",
       "[1] \"a\"\n",
       "\n",
       "[[3]][[2]]\n",
       "[1] TRUE\n",
       "\n",
       "\n",
       "[[4]]\n",
       "[[4]][[1]]\n",
       "[1] \"a\"\n",
       "\n",
       "[[4]][[2]]\n",
       "[1] \"b\"\n",
       "\n",
       "[[4]][[3]]\n",
       "[1] \"c\"\n",
       "\n"
      ]
     },
     "metadata": {},
     "output_type": "display_data"
    },
    {
     "data": {
      "text/html": [
       "<ol>\n",
       "\t<li>'a'</li>\n",
       "\t<li>2</li>\n",
       "\t<li><ol>\n",
       "\t<li>'a'</li>\n",
       "\t<li>TRUE</li>\n",
       "</ol>\n",
       "</li>\n",
       "\t<li><ol>\n",
       "\t<li>'a'</li>\n",
       "\t<li>'b'</li>\n",
       "\t<li>'c'</li>\n",
       "</ol>\n",
       "</li>\n",
       "\t<li>'hello'</li>\n",
       "</ol>\n"
      ],
      "text/latex": [
       "\\begin{enumerate}\n",
       "\\item 'a'\n",
       "\\item 2\n",
       "\\item \\begin{enumerate}\n",
       "\\item 'a'\n",
       "\\item TRUE\n",
       "\\end{enumerate}\n",
       "\n",
       "\\item \\begin{enumerate}\n",
       "\\item 'a'\n",
       "\\item 'b'\n",
       "\\item 'c'\n",
       "\\end{enumerate}\n",
       "\n",
       "\\item 'hello'\n",
       "\\end{enumerate}\n"
      ],
      "text/markdown": [
       "1. 'a'\n",
       "2. 2\n",
       "3. 1. 'a'\n",
       "2. TRUE\n",
       "\n",
       "\n",
       "\n",
       "4. 1. 'a'\n",
       "2. 'b'\n",
       "3. 'c'\n",
       "\n",
       "\n",
       "\n",
       "5. 'hello'\n",
       "\n",
       "\n"
      ],
      "text/plain": [
       "[[1]]\n",
       "[1] \"a\"\n",
       "\n",
       "[[2]]\n",
       "[1] 2\n",
       "\n",
       "[[3]]\n",
       "[[3]][[1]]\n",
       "[1] \"a\"\n",
       "\n",
       "[[3]][[2]]\n",
       "[1] TRUE\n",
       "\n",
       "\n",
       "[[4]]\n",
       "[[4]][[1]]\n",
       "[1] \"a\"\n",
       "\n",
       "[[4]][[2]]\n",
       "[1] \"b\"\n",
       "\n",
       "[[4]][[3]]\n",
       "[1] \"c\"\n",
       "\n",
       "\n",
       "[[5]]\n",
       "[1] \"hello\"\n"
      ]
     },
     "metadata": {},
     "output_type": "display_data"
    }
   ],
   "source": [
    "this_is_list[[4]] <- list('a','b','c')\n",
    "this_is_list\n",
    "this_is_list[[5]] <- 'hello'\n",
    "this_is_list"
   ]
  },
  {
   "cell_type": "markdown",
   "id": "330192ae",
   "metadata": {},
   "source": [
    "To insert an element in a specific position, you can combine list slices:"
   ]
  },
  {
   "cell_type": "code",
   "execution_count": 7,
   "id": "765f90fc",
   "metadata": {
    "vscode": {
     "languageId": "r"
    }
   },
   "outputs": [
    {
     "data": {
      "text/html": [
       "<ol>\n",
       "\t<li>'a'</li>\n",
       "\t<li>'Hola'</li>\n",
       "\t<li>2</li>\n",
       "\t<li><ol>\n",
       "\t<li>'a'</li>\n",
       "\t<li>TRUE</li>\n",
       "</ol>\n",
       "</li>\n",
       "\t<li><ol>\n",
       "\t<li>'a'</li>\n",
       "\t<li>'b'</li>\n",
       "\t<li>'c'</li>\n",
       "</ol>\n",
       "</li>\n",
       "\t<li>'hello'</li>\n",
       "</ol>\n"
      ],
      "text/latex": [
       "\\begin{enumerate}\n",
       "\\item 'a'\n",
       "\\item 'Hola'\n",
       "\\item 2\n",
       "\\item \\begin{enumerate}\n",
       "\\item 'a'\n",
       "\\item TRUE\n",
       "\\end{enumerate}\n",
       "\n",
       "\\item \\begin{enumerate}\n",
       "\\item 'a'\n",
       "\\item 'b'\n",
       "\\item 'c'\n",
       "\\end{enumerate}\n",
       "\n",
       "\\item 'hello'\n",
       "\\end{enumerate}\n"
      ],
      "text/markdown": [
       "1. 'a'\n",
       "2. 'Hola'\n",
       "3. 2\n",
       "4. 1. 'a'\n",
       "2. TRUE\n",
       "\n",
       "\n",
       "\n",
       "5. 1. 'a'\n",
       "2. 'b'\n",
       "3. 'c'\n",
       "\n",
       "\n",
       "\n",
       "6. 'hello'\n",
       "\n",
       "\n"
      ],
      "text/plain": [
       "[[1]]\n",
       "[1] \"a\"\n",
       "\n",
       "[[2]]\n",
       "[1] \"Hola\"\n",
       "\n",
       "[[3]]\n",
       "[1] 2\n",
       "\n",
       "[[4]]\n",
       "[[4]][[1]]\n",
       "[1] \"a\"\n",
       "\n",
       "[[4]][[2]]\n",
       "[1] TRUE\n",
       "\n",
       "\n",
       "[[5]]\n",
       "[[5]][[1]]\n",
       "[1] \"a\"\n",
       "\n",
       "[[5]][[2]]\n",
       "[1] \"b\"\n",
       "\n",
       "[[5]][[3]]\n",
       "[1] \"c\"\n",
       "\n",
       "\n",
       "[[6]]\n",
       "[1] \"hello\"\n"
      ]
     },
     "metadata": {},
     "output_type": "display_data"
    }
   ],
   "source": [
    "this_is_list <- append(this_is_list, 'Hola', after = 1) \n",
    "this_is_list"
   ]
  },
  {
   "cell_type": "markdown",
   "id": "9644bbef",
   "metadata": {},
   "source": [
    "Notice that `append(this_is_list, 'Hola', after = 1) ` is telling to  inserts the value \"Hola\" into the list `this_is_list` after the first element.\n",
    "\n",
    "You can remove elements by setting them to NULL:"
   ]
  },
  {
   "cell_type": "code",
   "execution_count": 8,
   "id": "ec40c474",
   "metadata": {
    "vscode": {
     "languageId": "r"
    }
   },
   "outputs": [
    {
     "data": {
      "text/html": [
       "<ol>\n",
       "\t<li>'a'</li>\n",
       "\t<li>2</li>\n",
       "\t<li><ol>\n",
       "\t<li>'a'</li>\n",
       "\t<li>TRUE</li>\n",
       "</ol>\n",
       "</li>\n",
       "\t<li><ol>\n",
       "\t<li>'a'</li>\n",
       "\t<li>'b'</li>\n",
       "\t<li>'c'</li>\n",
       "</ol>\n",
       "</li>\n",
       "\t<li>'hello'</li>\n",
       "</ol>\n"
      ],
      "text/latex": [
       "\\begin{enumerate}\n",
       "\\item 'a'\n",
       "\\item 2\n",
       "\\item \\begin{enumerate}\n",
       "\\item 'a'\n",
       "\\item TRUE\n",
       "\\end{enumerate}\n",
       "\n",
       "\\item \\begin{enumerate}\n",
       "\\item 'a'\n",
       "\\item 'b'\n",
       "\\item 'c'\n",
       "\\end{enumerate}\n",
       "\n",
       "\\item 'hello'\n",
       "\\end{enumerate}\n"
      ],
      "text/markdown": [
       "1. 'a'\n",
       "2. 2\n",
       "3. 1. 'a'\n",
       "2. TRUE\n",
       "\n",
       "\n",
       "\n",
       "4. 1. 'a'\n",
       "2. 'b'\n",
       "3. 'c'\n",
       "\n",
       "\n",
       "\n",
       "5. 'hello'\n",
       "\n",
       "\n"
      ],
      "text/plain": [
       "[[1]]\n",
       "[1] \"a\"\n",
       "\n",
       "[[2]]\n",
       "[1] 2\n",
       "\n",
       "[[3]]\n",
       "[[3]][[1]]\n",
       "[1] \"a\"\n",
       "\n",
       "[[3]][[2]]\n",
       "[1] TRUE\n",
       "\n",
       "\n",
       "[[4]]\n",
       "[[4]][[1]]\n",
       "[1] \"a\"\n",
       "\n",
       "[[4]][[2]]\n",
       "[1] \"b\"\n",
       "\n",
       "[[4]][[3]]\n",
       "[1] \"c\"\n",
       "\n",
       "\n",
       "[[5]]\n",
       "[1] \"hello\"\n"
      ]
     },
     "metadata": {},
     "output_type": "display_data"
    }
   ],
   "source": [
    "this_is_list[[2]] <- NULL  # Removes the 2nd element\n",
    "this_is_list"
   ]
  },
  {
   "cell_type": "markdown",
   "id": "8e6d8e82",
   "metadata": {},
   "source": [
    "3. **Matrices**\n",
    "\n",
    "    Just like in real life, a matrix in R is a two-dimensional, homogeneous data structure. This means it stores elements of the same type (e.g., all numeric or all character) in a rectangular layout—with rows and columns. Rows run horizontally, columns run vertically\n"
   ]
  },
  {
   "cell_type": "code",
   "execution_count": 9,
   "id": "6d244087",
   "metadata": {
    "vscode": {
     "languageId": "r"
    }
   },
   "outputs": [
    {
     "data": {
      "text/html": [
       "<table class=\"dataframe\">\n",
       "<caption>A matrix: 3 × 3 of type dbl</caption>\n",
       "<tbody>\n",
       "\t<tr><td>1</td><td>2</td><td>3</td></tr>\n",
       "\t<tr><td>4</td><td>5</td><td>6</td></tr>\n",
       "\t<tr><td>7</td><td>8</td><td>9</td></tr>\n",
       "</tbody>\n",
       "</table>\n"
      ],
      "text/latex": [
       "A matrix: 3 × 3 of type dbl\n",
       "\\begin{tabular}{lll}\n",
       "\t 1 & 2 & 3\\\\\n",
       "\t 4 & 5 & 6\\\\\n",
       "\t 7 & 8 & 9\\\\\n",
       "\\end{tabular}\n"
      ],
      "text/markdown": [
       "\n",
       "A matrix: 3 × 3 of type dbl\n",
       "\n",
       "| 1 | 2 | 3 |\n",
       "| 4 | 5 | 6 |\n",
       "| 7 | 8 | 9 |\n",
       "\n"
      ],
      "text/plain": [
       "     [,1] [,2] [,3]\n",
       "[1,] 1    2    3   \n",
       "[2,] 4    5    6   \n",
       "[3,] 7    8    9   "
      ]
     },
     "metadata": {},
     "output_type": "display_data"
    }
   ],
   "source": [
    "A <- matrix(\n",
    "  c(1, 2, 3, 4, 5, 6, 7, 8, 9), #\n",
    "  nrow = 3, \n",
    "  ncol = 3, \n",
    "  byrow = TRUE\n",
    ")\n",
    "A"
   ]
  },
  {
   "cell_type": "markdown",
   "id": "7092e7bd",
   "metadata": {},
   "source": [
    "Let’s break it down:\n",
    "- `matrix()`: tells R to reshape a vector in a matrix with a given number of rows and columns.\n",
    "- `c(1, 2, 3, 4, 5, 6, 7, 8, 9)`  vector we want as matrix. \n",
    "- `nrow = 3` specifies that the matrix should have 3 rows.\n",
    "- `ncol = 3` specifies 3 columns.\n",
    "- `byrow = TRUE` means that the filling of the matrix should happen row by row (horizontally), instead of the default column-wise (vertically). \n",
    "If you had written `byrow = FALSE` (or left it out), R would instead fill the matrix column by column, so the first column would be `(1,2,3)` rather than `(1,4,7)`\n",
    "\n",
    "\n",
    "4. **Arrays**\n",
    "\n",
    "    An array is a multi-dimensional data structure in R that stores elements of the same type (i.e., it’s homogeneous). You can think of an array as an extension of a matrix:\n",
    "\n",
    "    - A matrix is a special case of an array that has exactly two dimensions (rows and columns).\n",
    "\n",
    "    - An array can go beyond that, holding data in 3D, 4D, or even more dimensions."
   ]
  },
  {
   "cell_type": "code",
   "execution_count": 10,
   "id": "f1c8951d",
   "metadata": {
    "vscode": {
     "languageId": "r"
    }
   },
   "outputs": [
    {
     "data": {
      "text/html": [
       "<style>\n",
       ".list-inline {list-style: none; margin:0; padding: 0}\n",
       ".list-inline>li {display: inline-block}\n",
       ".list-inline>li:not(:last-child)::after {content: \"\\00b7\"; padding: 0 .5ex}\n",
       "</style>\n",
       "<ol class=list-inline><li>1</li><li>2</li><li>3</li><li>4</li><li>5</li><li>6</li><li>7</li><li>8</li></ol>\n"
      ],
      "text/latex": [
       "\\begin{enumerate*}\n",
       "\\item 1\n",
       "\\item 2\n",
       "\\item 3\n",
       "\\item 4\n",
       "\\item 5\n",
       "\\item 6\n",
       "\\item 7\n",
       "\\item 8\n",
       "\\end{enumerate*}\n"
      ],
      "text/markdown": [
       "1. 1\n",
       "2. 2\n",
       "3. 3\n",
       "4. 4\n",
       "5. 5\n",
       "6. 6\n",
       "7. 7\n",
       "8. 8\n",
       "\n",
       "\n"
      ],
      "text/plain": [
       ", , 1\n",
       "\n",
       "     [,1] [,2]\n",
       "[1,]    1    3\n",
       "[2,]    2    4\n",
       "\n",
       ", , 2\n",
       "\n",
       "     [,1] [,2]\n",
       "[1,]    5    7\n",
       "[2,]    6    8\n"
      ]
     },
     "metadata": {},
     "output_type": "display_data"
    },
    {
     "name": "stdout",
     "output_type": "stream",
     "text": [
      " num [1:2, 1:2, 1:2] 1 2 3 4 5 6 7 8\n"
     ]
    }
   ],
   "source": [
    "A <- array(\n",
    "  c(1, 2, 3, 4, 5, 6, 7, 8), \n",
    "  dim = c(2, 2, 2)\n",
    ")\n",
    "A\n",
    "str(A)"
   ]
  },
  {
   "cell_type": "markdown",
   "id": "95424487",
   "metadata": {},
   "source": [
    "If we check the dimensions: "
   ]
  },
  {
   "cell_type": "code",
   "execution_count": 11,
   "id": "95f1b8c2",
   "metadata": {
    "vscode": {
     "languageId": "r"
    }
   },
   "outputs": [
    {
     "data": {
      "text/html": [
       "<style>\n",
       ".list-inline {list-style: none; margin:0; padding: 0}\n",
       ".list-inline>li {display: inline-block}\n",
       ".list-inline>li:not(:last-child)::after {content: \"\\00b7\"; padding: 0 .5ex}\n",
       "</style>\n",
       "<ol class=list-inline><li>2</li><li>2</li><li>2</li></ol>\n"
      ],
      "text/latex": [
       "\\begin{enumerate*}\n",
       "\\item 2\n",
       "\\item 2\n",
       "\\item 2\n",
       "\\end{enumerate*}\n"
      ],
      "text/markdown": [
       "1. 2\n",
       "2. 2\n",
       "3. 2\n",
       "\n",
       "\n"
      ],
      "text/plain": [
       "[1] 2 2 2"
      ]
     },
     "metadata": {},
     "output_type": "display_data"
    }
   ],
   "source": [
    "dim(A)"
   ]
  },
  {
   "cell_type": "markdown",
   "id": "76987e9e",
   "metadata": {},
   "source": [
    "This creates a 3D array with:\n",
    "- 2 rows\n",
    "- 2 columns\n",
    "- 2 layers (or matrices)\n",
    "\n",
    "That it, it holds two 2×2 matrices, stacked on top of each other.\n",
    "\n",
    "Why use arrays?\n",
    "\n",
    "- When your data naturally fits into a higher-dimensional format (like time-series across multiple variables and groups).\n",
    "\n",
    "- When you need to organize homogeneous data beyond just rows and columns.\n",
    "\n",
    "5. **Data Frame**:\n",
    "\n",
    "    A data frame is one of the most commonly used data structures in R for data analysis. You can think of it as a table, similar to what you'd see in Excel or a spreadsheet. Each column is a vector, and each row is an observation. Columns can hold different data types (numeric, character, factor, etc.), but each column must be of one type only. In short, it's a 2D heterogeneous data structure — unlike a matrix (which is homogeneous).\n",
    "\n",
    "    To create a data frame we call the `data.frame()` function"
   ]
  },
  {
   "cell_type": "code",
   "execution_count": 12,
   "id": "86b67d21",
   "metadata": {
    "vscode": {
     "languageId": "r"
    }
   },
   "outputs": [
    {
     "data": {
      "text/html": [
       "<table class=\"dataframe\">\n",
       "<caption>A data.frame: 3 × 3</caption>\n",
       "<thead>\n",
       "\t<tr><th scope=col>name</th><th scope=col>age</th><th scope=col>is_student</th></tr>\n",
       "\t<tr><th scope=col>&lt;chr&gt;</th><th scope=col>&lt;dbl&gt;</th><th scope=col>&lt;lgl&gt;</th></tr>\n",
       "</thead>\n",
       "<tbody>\n",
       "\t<tr><td>Alice  </td><td>25</td><td> TRUE</td></tr>\n",
       "\t<tr><td>Bob    </td><td>30</td><td>FALSE</td></tr>\n",
       "\t<tr><td>Charlie</td><td>22</td><td> TRUE</td></tr>\n",
       "</tbody>\n",
       "</table>\n"
      ],
      "text/latex": [
       "A data.frame: 3 × 3\n",
       "\\begin{tabular}{lll}\n",
       " name & age & is\\_student\\\\\n",
       " <chr> & <dbl> & <lgl>\\\\\n",
       "\\hline\n",
       "\t Alice   & 25 &  TRUE\\\\\n",
       "\t Bob     & 30 & FALSE\\\\\n",
       "\t Charlie & 22 &  TRUE\\\\\n",
       "\\end{tabular}\n"
      ],
      "text/markdown": [
       "\n",
       "A data.frame: 3 × 3\n",
       "\n",
       "| name &lt;chr&gt; | age &lt;dbl&gt; | is_student &lt;lgl&gt; |\n",
       "|---|---|---|\n",
       "| Alice   | 25 |  TRUE |\n",
       "| Bob     | 30 | FALSE |\n",
       "| Charlie | 22 |  TRUE |\n",
       "\n"
      ],
      "text/plain": [
       "  name    age is_student\n",
       "1 Alice   25   TRUE     \n",
       "2 Bob     30  FALSE     \n",
       "3 Charlie 22   TRUE     "
      ]
     },
     "metadata": {},
     "output_type": "display_data"
    }
   ],
   "source": [
    "df <- data.frame(\n",
    "  name = c(\"Alice\", \"Bob\", \"Charlie\"),\n",
    "  age = c(25, 30, 22),\n",
    "  is_student = c(TRUE, FALSE, TRUE)\n",
    ")\n",
    "\n",
    "df"
   ]
  },
  {
   "cell_type": "markdown",
   "id": "84a2dfb6",
   "metadata": {},
   "source": [
    "This creates a data frame with 3 columns (name, age, is_student) and 3 rows (Alice, Bob, Charlie). Notice that each column is a different data type (character, double and logical)\n",
    "\n",
    "Some basic operations: \n",
    "\n",
    "- **Vieweing the data**"
   ]
  },
  {
   "cell_type": "code",
   "execution_count": 13,
   "id": "07e98edb",
   "metadata": {
    "vscode": {
     "languageId": "r"
    }
   },
   "outputs": [
    {
     "name": "stdout",
     "output_type": "stream",
     "text": [
      "     name age is_student\n",
      "1   Alice  25       TRUE\n",
      "2     Bob  30      FALSE\n",
      "3 Charlie  22       TRUE\n"
     ]
    },
    {
     "data": {
      "text/html": [
       "<table class=\"dataframe\">\n",
       "<caption>A data.frame: 3 × 3</caption>\n",
       "<thead>\n",
       "\t<tr><th></th><th scope=col>name</th><th scope=col>age</th><th scope=col>is_student</th></tr>\n",
       "\t<tr><th></th><th scope=col>&lt;chr&gt;</th><th scope=col>&lt;dbl&gt;</th><th scope=col>&lt;lgl&gt;</th></tr>\n",
       "</thead>\n",
       "<tbody>\n",
       "\t<tr><th scope=row>1</th><td>Alice  </td><td>25</td><td> TRUE</td></tr>\n",
       "\t<tr><th scope=row>2</th><td>Bob    </td><td>30</td><td>FALSE</td></tr>\n",
       "\t<tr><th scope=row>3</th><td>Charlie</td><td>22</td><td> TRUE</td></tr>\n",
       "</tbody>\n",
       "</table>\n"
      ],
      "text/latex": [
       "A data.frame: 3 × 3\n",
       "\\begin{tabular}{r|lll}\n",
       "  & name & age & is\\_student\\\\\n",
       "  & <chr> & <dbl> & <lgl>\\\\\n",
       "\\hline\n",
       "\t1 & Alice   & 25 &  TRUE\\\\\n",
       "\t2 & Bob     & 30 & FALSE\\\\\n",
       "\t3 & Charlie & 22 &  TRUE\\\\\n",
       "\\end{tabular}\n"
      ],
      "text/markdown": [
       "\n",
       "A data.frame: 3 × 3\n",
       "\n",
       "| <!--/--> | name &lt;chr&gt; | age &lt;dbl&gt; | is_student &lt;lgl&gt; |\n",
       "|---|---|---|---|\n",
       "| 1 | Alice   | 25 |  TRUE |\n",
       "| 2 | Bob     | 30 | FALSE |\n",
       "| 3 | Charlie | 22 |  TRUE |\n",
       "\n"
      ],
      "text/plain": [
       "  name    age is_student\n",
       "1 Alice   25   TRUE     \n",
       "2 Bob     30  FALSE     \n",
       "3 Charlie 22   TRUE     "
      ]
     },
     "metadata": {},
     "output_type": "display_data"
    },
    {
     "name": "stdout",
     "output_type": "stream",
     "text": [
      "'data.frame':\t3 obs. of  3 variables:\n",
      " $ name      : chr  \"Alice\" \"Bob\" \"Charlie\"\n",
      " $ age       : num  25 30 22\n",
      " $ is_student: logi  TRUE FALSE TRUE\n"
     ]
    },
    {
     "data": {
      "text/plain": [
       "     name                age        is_student     \n",
       " Length:3           Min.   :22.00   Mode :logical  \n",
       " Class :character   1st Qu.:23.50   FALSE:1        \n",
       " Mode  :character   Median :25.00   TRUE :2        \n",
       "                    Mean   :25.67                  \n",
       "                    3rd Qu.:27.50                  \n",
       "                    Max.   :30.00                  "
      ]
     },
     "metadata": {},
     "output_type": "display_data"
    }
   ],
   "source": [
    "\n",
    "print(df)         # view the whole data frame\n",
    "head(df)          # view the first 6 rows\n",
    "str(df)           # structure of the data frame\n",
    "summary(df)       # summary statistics"
   ]
  },
  {
   "cell_type": "markdown",
   "id": "6dd6c839",
   "metadata": {},
   "source": [
    "- **Acessing columns**:"
   ]
  },
  {
   "cell_type": "code",
   "execution_count": 14,
   "id": "80af0fb0",
   "metadata": {
    "vscode": {
     "languageId": "r"
    }
   },
   "outputs": [
    {
     "data": {
      "text/html": [
       "<style>\n",
       ".list-inline {list-style: none; margin:0; padding: 0}\n",
       ".list-inline>li {display: inline-block}\n",
       ".list-inline>li:not(:last-child)::after {content: \"\\00b7\"; padding: 0 .5ex}\n",
       "</style>\n",
       "<ol class=list-inline><li>'Alice'</li><li>'Bob'</li><li>'Charlie'</li></ol>\n"
      ],
      "text/latex": [
       "\\begin{enumerate*}\n",
       "\\item 'Alice'\n",
       "\\item 'Bob'\n",
       "\\item 'Charlie'\n",
       "\\end{enumerate*}\n"
      ],
      "text/markdown": [
       "1. 'Alice'\n",
       "2. 'Bob'\n",
       "3. 'Charlie'\n",
       "\n",
       "\n"
      ],
      "text/plain": [
       "[1] \"Alice\"   \"Bob\"     \"Charlie\""
      ]
     },
     "metadata": {},
     "output_type": "display_data"
    },
    {
     "data": {
      "text/html": [
       "<style>\n",
       ".list-inline {list-style: none; margin:0; padding: 0}\n",
       ".list-inline>li {display: inline-block}\n",
       ".list-inline>li:not(:last-child)::after {content: \"\\00b7\"; padding: 0 .5ex}\n",
       "</style>\n",
       "<ol class=list-inline><li>25</li><li>30</li><li>22</li></ol>\n"
      ],
      "text/latex": [
       "\\begin{enumerate*}\n",
       "\\item 25\n",
       "\\item 30\n",
       "\\item 22\n",
       "\\end{enumerate*}\n"
      ],
      "text/markdown": [
       "1. 25\n",
       "2. 30\n",
       "3. 22\n",
       "\n",
       "\n"
      ],
      "text/plain": [
       "[1] 25 30 22"
      ]
     },
     "metadata": {},
     "output_type": "display_data"
    },
    {
     "data": {
      "text/html": [
       "<style>\n",
       ".list-inline {list-style: none; margin:0; padding: 0}\n",
       ".list-inline>li {display: inline-block}\n",
       ".list-inline>li:not(:last-child)::after {content: \"\\00b7\"; padding: 0 .5ex}\n",
       "</style>\n",
       "<ol class=list-inline><li>25</li><li>30</li><li>22</li></ol>\n"
      ],
      "text/latex": [
       "\\begin{enumerate*}\n",
       "\\item 25\n",
       "\\item 30\n",
       "\\item 22\n",
       "\\end{enumerate*}\n"
      ],
      "text/markdown": [
       "1. 25\n",
       "2. 30\n",
       "3. 22\n",
       "\n",
       "\n"
      ],
      "text/plain": [
       "[1] 25 30 22"
      ]
     },
     "metadata": {},
     "output_type": "display_data"
    }
   ],
   "source": [
    "df$name           # access column by name\n",
    "df[[\"age\"]]       # another way to access a column\n",
    "df[,2]            # access second column"
   ]
  },
  {
   "cell_type": "markdown",
   "id": "51e2ce0b",
   "metadata": {},
   "source": [
    "- **Accessing rows**"
   ]
  },
  {
   "cell_type": "code",
   "execution_count": 15,
   "id": "53770f32",
   "metadata": {
    "vscode": {
     "languageId": "r"
    }
   },
   "outputs": [
    {
     "data": {
      "text/html": [
       "<table class=\"dataframe\">\n",
       "<caption>A data.frame: 1 × 3</caption>\n",
       "<thead>\n",
       "\t<tr><th></th><th scope=col>name</th><th scope=col>age</th><th scope=col>is_student</th></tr>\n",
       "\t<tr><th></th><th scope=col>&lt;chr&gt;</th><th scope=col>&lt;dbl&gt;</th><th scope=col>&lt;lgl&gt;</th></tr>\n",
       "</thead>\n",
       "<tbody>\n",
       "\t<tr><th scope=row>1</th><td>Alice</td><td>25</td><td>TRUE</td></tr>\n",
       "</tbody>\n",
       "</table>\n"
      ],
      "text/latex": [
       "A data.frame: 1 × 3\n",
       "\\begin{tabular}{r|lll}\n",
       "  & name & age & is\\_student\\\\\n",
       "  & <chr> & <dbl> & <lgl>\\\\\n",
       "\\hline\n",
       "\t1 & Alice & 25 & TRUE\\\\\n",
       "\\end{tabular}\n"
      ],
      "text/markdown": [
       "\n",
       "A data.frame: 1 × 3\n",
       "\n",
       "| <!--/--> | name &lt;chr&gt; | age &lt;dbl&gt; | is_student &lt;lgl&gt; |\n",
       "|---|---|---|---|\n",
       "| 1 | Alice | 25 | TRUE |\n",
       "\n"
      ],
      "text/plain": [
       "  name  age is_student\n",
       "1 Alice 25  TRUE      "
      ]
     },
     "metadata": {},
     "output_type": "display_data"
    },
    {
     "data": {
      "text/html": [
       "<table class=\"dataframe\">\n",
       "<caption>A data.frame: 2 × 3</caption>\n",
       "<thead>\n",
       "\t<tr><th></th><th scope=col>name</th><th scope=col>age</th><th scope=col>is_student</th></tr>\n",
       "\t<tr><th></th><th scope=col>&lt;chr&gt;</th><th scope=col>&lt;dbl&gt;</th><th scope=col>&lt;lgl&gt;</th></tr>\n",
       "</thead>\n",
       "<tbody>\n",
       "\t<tr><th scope=row>2</th><td>Bob    </td><td>30</td><td>FALSE</td></tr>\n",
       "\t<tr><th scope=row>3</th><td>Charlie</td><td>22</td><td> TRUE</td></tr>\n",
       "</tbody>\n",
       "</table>\n"
      ],
      "text/latex": [
       "A data.frame: 2 × 3\n",
       "\\begin{tabular}{r|lll}\n",
       "  & name & age & is\\_student\\\\\n",
       "  & <chr> & <dbl> & <lgl>\\\\\n",
       "\\hline\n",
       "\t2 & Bob     & 30 & FALSE\\\\\n",
       "\t3 & Charlie & 22 &  TRUE\\\\\n",
       "\\end{tabular}\n"
      ],
      "text/markdown": [
       "\n",
       "A data.frame: 2 × 3\n",
       "\n",
       "| <!--/--> | name &lt;chr&gt; | age &lt;dbl&gt; | is_student &lt;lgl&gt; |\n",
       "|---|---|---|---|\n",
       "| 2 | Bob     | 30 | FALSE |\n",
       "| 3 | Charlie | 22 |  TRUE |\n",
       "\n"
      ],
      "text/plain": [
       "  name    age is_student\n",
       "2 Bob     30  FALSE     \n",
       "3 Charlie 22   TRUE     "
      ]
     },
     "metadata": {},
     "output_type": "display_data"
    }
   ],
   "source": [
    "df[1, ]           # dirst row, all columns\n",
    "df[2:3, ]         # rows 2 and 3, all columns"
   ]
  },
  {
   "cell_type": "markdown",
   "id": "4d5339db",
   "metadata": {},
   "source": [
    "- **Accessing elements**"
   ]
  },
  {
   "cell_type": "code",
   "execution_count": 16,
   "id": "589d0b3f",
   "metadata": {
    "vscode": {
     "languageId": "r"
    }
   },
   "outputs": [
    {
     "data": {
      "text/html": [
       "'Bob'"
      ],
      "text/latex": [
       "'Bob'"
      ],
      "text/markdown": [
       "'Bob'"
      ],
      "text/plain": [
       "[1] \"Bob\""
      ]
     },
     "metadata": {},
     "output_type": "display_data"
    },
    {
     "data": {
      "text/html": [
       "22"
      ],
      "text/latex": [
       "22"
      ],
      "text/markdown": [
       "22"
      ],
      "text/plain": [
       "[1] 22"
      ]
     },
     "metadata": {},
     "output_type": "display_data"
    }
   ],
   "source": [
    "df[2, \"name\"]     # second row, column name\n",
    "df[3, 2]          # third row, second column"
   ]
  },
  {
   "cell_type": "markdown",
   "id": "0f0c9166",
   "metadata": {},
   "source": [
    "- **Adding columns**\n",
    "\n",
    "    We can do this by assigning to a new column a vector. "
   ]
  },
  {
   "cell_type": "code",
   "execution_count": 17,
   "id": "0ccb2d20",
   "metadata": {
    "vscode": {
     "languageId": "r"
    }
   },
   "outputs": [],
   "source": [
    "df$country <- c(\"Portugal\", \"Spain\", \"France\")"
   ]
  },
  {
   "cell_type": "markdown",
   "id": "91664ccb",
   "metadata": {},
   "source": [
    "- **Filtering rows with conditions**"
   ]
  },
  {
   "cell_type": "code",
   "execution_count": 18,
   "id": "589bbdd2",
   "metadata": {
    "vscode": {
     "languageId": "r"
    }
   },
   "outputs": [
    {
     "data": {
      "text/html": [
       "<table class=\"dataframe\">\n",
       "<caption>A data.frame: 2 × 4</caption>\n",
       "<thead>\n",
       "\t<tr><th></th><th scope=col>name</th><th scope=col>age</th><th scope=col>is_student</th><th scope=col>country</th></tr>\n",
       "\t<tr><th></th><th scope=col>&lt;chr&gt;</th><th scope=col>&lt;dbl&gt;</th><th scope=col>&lt;lgl&gt;</th><th scope=col>&lt;chr&gt;</th></tr>\n",
       "</thead>\n",
       "<tbody>\n",
       "\t<tr><th scope=row>1</th><td>Alice</td><td>25</td><td> TRUE</td><td>Portugal</td></tr>\n",
       "\t<tr><th scope=row>2</th><td>Bob  </td><td>30</td><td>FALSE</td><td>Spain   </td></tr>\n",
       "</tbody>\n",
       "</table>\n"
      ],
      "text/latex": [
       "A data.frame: 2 × 4\n",
       "\\begin{tabular}{r|llll}\n",
       "  & name & age & is\\_student & country\\\\\n",
       "  & <chr> & <dbl> & <lgl> & <chr>\\\\\n",
       "\\hline\n",
       "\t1 & Alice & 25 &  TRUE & Portugal\\\\\n",
       "\t2 & Bob   & 30 & FALSE & Spain   \\\\\n",
       "\\end{tabular}\n"
      ],
      "text/markdown": [
       "\n",
       "A data.frame: 2 × 4\n",
       "\n",
       "| <!--/--> | name &lt;chr&gt; | age &lt;dbl&gt; | is_student &lt;lgl&gt; | country &lt;chr&gt; |\n",
       "|---|---|---|---|---|\n",
       "| 1 | Alice | 25 |  TRUE | Portugal |\n",
       "| 2 | Bob   | 30 | FALSE | Spain    |\n",
       "\n"
      ],
      "text/plain": [
       "  name  age is_student country \n",
       "1 Alice 25   TRUE      Portugal\n",
       "2 Bob   30  FALSE      Spain   "
      ]
     },
     "metadata": {},
     "output_type": "display_data"
    },
    {
     "data": {
      "text/html": [
       "<table class=\"dataframe\">\n",
       "<caption>A data.frame: 2 × 4</caption>\n",
       "<thead>\n",
       "\t<tr><th></th><th scope=col>name</th><th scope=col>age</th><th scope=col>is_student</th><th scope=col>country</th></tr>\n",
       "\t<tr><th></th><th scope=col>&lt;chr&gt;</th><th scope=col>&lt;dbl&gt;</th><th scope=col>&lt;lgl&gt;</th><th scope=col>&lt;chr&gt;</th></tr>\n",
       "</thead>\n",
       "<tbody>\n",
       "\t<tr><th scope=row>1</th><td>Alice  </td><td>25</td><td>TRUE</td><td>Portugal</td></tr>\n",
       "\t<tr><th scope=row>3</th><td>Charlie</td><td>22</td><td>TRUE</td><td>France  </td></tr>\n",
       "</tbody>\n",
       "</table>\n"
      ],
      "text/latex": [
       "A data.frame: 2 × 4\n",
       "\\begin{tabular}{r|llll}\n",
       "  & name & age & is\\_student & country\\\\\n",
       "  & <chr> & <dbl> & <lgl> & <chr>\\\\\n",
       "\\hline\n",
       "\t1 & Alice   & 25 & TRUE & Portugal\\\\\n",
       "\t3 & Charlie & 22 & TRUE & France  \\\\\n",
       "\\end{tabular}\n"
      ],
      "text/markdown": [
       "\n",
       "A data.frame: 2 × 4\n",
       "\n",
       "| <!--/--> | name &lt;chr&gt; | age &lt;dbl&gt; | is_student &lt;lgl&gt; | country &lt;chr&gt; |\n",
       "|---|---|---|---|---|\n",
       "| 1 | Alice   | 25 | TRUE | Portugal |\n",
       "| 3 | Charlie | 22 | TRUE | France   |\n",
       "\n"
      ],
      "text/plain": [
       "  name    age is_student country \n",
       "1 Alice   25  TRUE       Portugal\n",
       "3 Charlie 22  TRUE       France  "
      ]
     },
     "metadata": {},
     "output_type": "display_data"
    }
   ],
   "source": [
    "df[df$age > 24, ]       # select rows where age > 24\n",
    "df[df$is_student == TRUE, ]  # only students"
   ]
  },
  {
   "cell_type": "markdown",
   "id": "bbb9f9f2",
   "metadata": {},
   "source": [
    "- **Modify elements**"
   ]
  },
  {
   "cell_type": "code",
   "execution_count": 19,
   "id": "bc864521",
   "metadata": {
    "vscode": {
     "languageId": "r"
    }
   },
   "outputs": [],
   "source": [
    "df[1, \"age\"] <- 26      # Change Alice's age to 26"
   ]
  },
  {
   "cell_type": "markdown",
   "id": "3a2c9be1",
   "metadata": {},
   "source": [
    "- **Remove columns**\n",
    "\n",
    "    Assign a column the `NULL` value"
   ]
  },
  {
   "cell_type": "code",
   "execution_count": 20,
   "id": "d6507cce",
   "metadata": {
    "vscode": {
     "languageId": "r"
    }
   },
   "outputs": [
    {
     "data": {
      "text/plain": [
       "NULL"
      ]
     },
     "metadata": {},
     "output_type": "display_data"
    }
   ],
   "source": [
    "df$country <- NULL      # remove the 'country' \n",
    "df$country"
   ]
  },
  {
   "cell_type": "code",
   "execution_count": 21,
   "id": "6625aec7",
   "metadata": {
    "vscode": {
     "languageId": "r"
    }
   },
   "outputs": [
    {
     "data": {
      "text/html": [
       "<table class=\"dataframe\">\n",
       "<caption>A data.frame: 3 × 3</caption>\n",
       "<thead>\n",
       "\t<tr><th scope=col>name</th><th scope=col>age</th><th scope=col>is_student</th></tr>\n",
       "\t<tr><th scope=col>&lt;chr&gt;</th><th scope=col>&lt;dbl&gt;</th><th scope=col>&lt;lgl&gt;</th></tr>\n",
       "</thead>\n",
       "<tbody>\n",
       "\t<tr><td>Alice  </td><td>26</td><td> TRUE</td></tr>\n",
       "\t<tr><td>Bob    </td><td>30</td><td>FALSE</td></tr>\n",
       "\t<tr><td>Charlie</td><td>22</td><td> TRUE</td></tr>\n",
       "</tbody>\n",
       "</table>\n"
      ],
      "text/latex": [
       "A data.frame: 3 × 3\n",
       "\\begin{tabular}{lll}\n",
       " name & age & is\\_student\\\\\n",
       " <chr> & <dbl> & <lgl>\\\\\n",
       "\\hline\n",
       "\t Alice   & 26 &  TRUE\\\\\n",
       "\t Bob     & 30 & FALSE\\\\\n",
       "\t Charlie & 22 &  TRUE\\\\\n",
       "\\end{tabular}\n"
      ],
      "text/markdown": [
       "\n",
       "A data.frame: 3 × 3\n",
       "\n",
       "| name &lt;chr&gt; | age &lt;dbl&gt; | is_student &lt;lgl&gt; |\n",
       "|---|---|---|\n",
       "| Alice   | 26 |  TRUE |\n",
       "| Bob     | 30 | FALSE |\n",
       "| Charlie | 22 |  TRUE |\n",
       "\n"
      ],
      "text/plain": [
       "  name    age is_student\n",
       "1 Alice   26   TRUE     \n",
       "2 Bob     30  FALSE     \n",
       "3 Charlie 22   TRUE     "
      ]
     },
     "metadata": {},
     "output_type": "display_data"
    }
   ],
   "source": [
    "df"
   ]
  },
  {
   "cell_type": "markdown",
   "id": "76a9740b",
   "metadata": {},
   "source": [
    "We often need to combine multiple data frames. There are two main ways to do this:\n",
    "\n",
    "- Appending: adding rows (stacking, vertical)\n",
    "- Merging: joining based on common columns or keys (horizontal matching)\n",
    "\n",
    "**Appending**\n",
    "\n",
    "Use `rbind()` to append one data frame below another, as long as the column names and types match. If the column names or types don’t match, it will throw an error:"
   ]
  },
  {
   "cell_type": "code",
   "execution_count": 22,
   "id": "706069da",
   "metadata": {
    "vscode": {
     "languageId": "r"
    }
   },
   "outputs": [
    {
     "data": {
      "text/html": [
       "<table class=\"dataframe\">\n",
       "<caption>A data.frame: 4 × 2</caption>\n",
       "<thead>\n",
       "\t<tr><th scope=col>id</th><th scope=col>name</th></tr>\n",
       "\t<tr><th scope=col>&lt;dbl&gt;</th><th scope=col>&lt;chr&gt;</th></tr>\n",
       "</thead>\n",
       "<tbody>\n",
       "\t<tr><td>1</td><td>Alice  </td></tr>\n",
       "\t<tr><td>2</td><td>Bob    </td></tr>\n",
       "\t<tr><td>3</td><td>Charlie</td></tr>\n",
       "\t<tr><td>4</td><td>Diana  </td></tr>\n",
       "</tbody>\n",
       "</table>\n"
      ],
      "text/latex": [
       "A data.frame: 4 × 2\n",
       "\\begin{tabular}{ll}\n",
       " id & name\\\\\n",
       " <dbl> & <chr>\\\\\n",
       "\\hline\n",
       "\t 1 & Alice  \\\\\n",
       "\t 2 & Bob    \\\\\n",
       "\t 3 & Charlie\\\\\n",
       "\t 4 & Diana  \\\\\n",
       "\\end{tabular}\n"
      ],
      "text/markdown": [
       "\n",
       "A data.frame: 4 × 2\n",
       "\n",
       "| id &lt;dbl&gt; | name &lt;chr&gt; |\n",
       "|---|---|\n",
       "| 1 | Alice   |\n",
       "| 2 | Bob     |\n",
       "| 3 | Charlie |\n",
       "| 4 | Diana   |\n",
       "\n"
      ],
      "text/plain": [
       "  id name   \n",
       "1 1  Alice  \n",
       "2 2  Bob    \n",
       "3 3  Charlie\n",
       "4 4  Diana  "
      ]
     },
     "metadata": {},
     "output_type": "display_data"
    }
   ],
   "source": [
    "df1 <- data.frame(\n",
    "  id = c(1, 2),\n",
    "  name = c(\"Alice\", \"Bob\")\n",
    ")\n",
    "\n",
    "df2 <- data.frame(\n",
    "  id = c(3, 4),\n",
    "  name = c(\"Charlie\", \"Diana\")\n",
    ")\n",
    "\n",
    "df_combined <- rbind(df1, df2)\n",
    "df_combined"
   ]
  },
  {
   "cell_type": "markdown",
   "id": "f6414d00",
   "metadata": {},
   "source": [
    "**Merging**\n",
    "\n",
    "Use `merge()` to join data frames by one or more columns. Merges can be *inner* (keys in both data frames), *left* (only keys on the left), *right* (only keys on the right), *outer* (matching and non matching). "
   ]
  },
  {
   "cell_type": "code",
   "execution_count": 23,
   "id": "13345ce3",
   "metadata": {
    "vscode": {
     "languageId": "r"
    }
   },
   "outputs": [],
   "source": [
    "students <- data.frame(\n",
    "  id = c(1, 2, 3),\n",
    "  name = c(\"Alice\", \"Bob\", \"Charlie\")\n",
    ")\n",
    "\n",
    "grades <- data.frame(\n",
    "  id = c(2, 3, 4),\n",
    "  grade = c(\"A\", \"B\", \"C\")\n",
    ")\n",
    "\n",
    "merged_df <- merge(students, grades, by = \"id\") # merge students (left dataframe) with grades (right dataframe) checking same id columns"
   ]
  },
  {
   "cell_type": "code",
   "execution_count": 24,
   "id": "30c7fc21",
   "metadata": {
    "vscode": {
     "languageId": "r"
    }
   },
   "outputs": [
    {
     "data": {
      "text/html": [
       "<table class=\"dataframe\">\n",
       "<caption>A data.frame: 2 × 3</caption>\n",
       "<thead>\n",
       "\t<tr><th scope=col>id</th><th scope=col>name</th><th scope=col>grade</th></tr>\n",
       "\t<tr><th scope=col>&lt;dbl&gt;</th><th scope=col>&lt;chr&gt;</th><th scope=col>&lt;chr&gt;</th></tr>\n",
       "</thead>\n",
       "<tbody>\n",
       "\t<tr><td>2</td><td>Bob    </td><td>A</td></tr>\n",
       "\t<tr><td>3</td><td>Charlie</td><td>B</td></tr>\n",
       "</tbody>\n",
       "</table>\n"
      ],
      "text/latex": [
       "A data.frame: 2 × 3\n",
       "\\begin{tabular}{lll}\n",
       " id & name & grade\\\\\n",
       " <dbl> & <chr> & <chr>\\\\\n",
       "\\hline\n",
       "\t 2 & Bob     & A\\\\\n",
       "\t 3 & Charlie & B\\\\\n",
       "\\end{tabular}\n"
      ],
      "text/markdown": [
       "\n",
       "A data.frame: 2 × 3\n",
       "\n",
       "| id &lt;dbl&gt; | name &lt;chr&gt; | grade &lt;chr&gt; |\n",
       "|---|---|---|\n",
       "| 2 | Bob     | A |\n",
       "| 3 | Charlie | B |\n",
       "\n"
      ],
      "text/plain": [
       "  id name    grade\n",
       "1 2  Bob     A    \n",
       "2 3  Charlie B    "
      ]
     },
     "metadata": {},
     "output_type": "display_data"
    }
   ],
   "source": [
    "merged_df"
   ]
  },
  {
   "cell_type": "markdown",
   "id": "a20e3049",
   "metadata": {},
   "source": [
    "By default, this performs an inner join (only keeps rows with matching ids in both data frames). Other merge options:\n",
    "\n",
    "- `all = TRUE`: outer join (includes all row, even if they don't match)\n",
    "\n",
    "- `all.x = TRUE`: left join (all from the first df, matching from the second)\n",
    "\n",
    "- `all.y = TRUE`: right join (all from the second df, matching from the first )\n",
    "\n",
    "For instance, if we run the merge on the left, Alice will appear with a missing value because the second data frame does not have a value for `id` 1. "
   ]
  },
  {
   "cell_type": "code",
   "execution_count": 25,
   "id": "00c5c930",
   "metadata": {
    "vscode": {
     "languageId": "r"
    }
   },
   "outputs": [
    {
     "data": {
      "text/html": [
       "<table class=\"dataframe\">\n",
       "<caption>A data.frame: 3 × 3</caption>\n",
       "<thead>\n",
       "\t<tr><th scope=col>id</th><th scope=col>name</th><th scope=col>grade</th></tr>\n",
       "\t<tr><th scope=col>&lt;dbl&gt;</th><th scope=col>&lt;chr&gt;</th><th scope=col>&lt;chr&gt;</th></tr>\n",
       "</thead>\n",
       "<tbody>\n",
       "\t<tr><td>1</td><td>Alice  </td><td>NA</td></tr>\n",
       "\t<tr><td>2</td><td>Bob    </td><td>A </td></tr>\n",
       "\t<tr><td>3</td><td>Charlie</td><td>B </td></tr>\n",
       "</tbody>\n",
       "</table>\n"
      ],
      "text/latex": [
       "A data.frame: 3 × 3\n",
       "\\begin{tabular}{lll}\n",
       " id & name & grade\\\\\n",
       " <dbl> & <chr> & <chr>\\\\\n",
       "\\hline\n",
       "\t 1 & Alice   & NA\\\\\n",
       "\t 2 & Bob     & A \\\\\n",
       "\t 3 & Charlie & B \\\\\n",
       "\\end{tabular}\n"
      ],
      "text/markdown": [
       "\n",
       "A data.frame: 3 × 3\n",
       "\n",
       "| id &lt;dbl&gt; | name &lt;chr&gt; | grade &lt;chr&gt; |\n",
       "|---|---|---|\n",
       "| 1 | Alice   | NA |\n",
       "| 2 | Bob     | A  |\n",
       "| 3 | Charlie | B  |\n",
       "\n"
      ],
      "text/plain": [
       "  id name    grade\n",
       "1 1  Alice   NA   \n",
       "2 2  Bob     A    \n",
       "3 3  Charlie B    "
      ]
     },
     "metadata": {},
     "output_type": "display_data"
    }
   ],
   "source": [
    "merge(students, grades, by = \"id\", all.x = TRUE)"
   ]
  },
  {
   "cell_type": "markdown",
   "id": "eddb9cfb",
   "metadata": {},
   "source": [
    "With this, we finish our daily basics of R programming. Now we return to our main goal: using R for data analysis\n",
    "\n",
    "## 2. Comparing samples and plotting differences. \n",
    "\n",
    "Let’s go through a simple example using a ficticious data frame with grades of different groups. "
   ]
  },
  {
   "cell_type": "code",
   "execution_count": 26,
   "id": "ed2ad491",
   "metadata": {
    "vscode": {
     "languageId": "r"
    }
   },
   "outputs": [],
   "source": [
    "library(readxl)\n",
    "grades = read.csv(\"data/session_3/grades_example.csv\")"
   ]
  },
  {
   "cell_type": "code",
   "execution_count": 27,
   "id": "6c6c6f41",
   "metadata": {
    "vscode": {
     "languageId": "r"
    }
   },
   "outputs": [
    {
     "data": {
      "text/html": [
       "<table class=\"dataframe\">\n",
       "<caption>A data.frame: 40 × 2</caption>\n",
       "<thead>\n",
       "\t<tr><th scope=col>class</th><th scope=col>score</th></tr>\n",
       "\t<tr><th scope=col>&lt;chr&gt;</th><th scope=col>&lt;dbl&gt;</th></tr>\n",
       "</thead>\n",
       "<tbody>\n",
       "\t<tr><td>A</td><td>13.879049</td></tr>\n",
       "\t<tr><td>A</td><td>14.539645</td></tr>\n",
       "\t<tr><td>A</td><td>18.117417</td></tr>\n",
       "\t<tr><td>A</td><td>15.141017</td></tr>\n",
       "\t<tr><td>A</td><td>15.258575</td></tr>\n",
       "\t<tr><td>A</td><td>18.430130</td></tr>\n",
       "\t<tr><td>A</td><td>15.921832</td></tr>\n",
       "\t<tr><td>A</td><td>12.469878</td></tr>\n",
       "\t<tr><td>A</td><td>13.626294</td></tr>\n",
       "\t<tr><td>A</td><td>14.108676</td></tr>\n",
       "\t<tr><td>A</td><td>17.448164</td></tr>\n",
       "\t<tr><td>A</td><td>15.719628</td></tr>\n",
       "\t<tr><td>A</td><td>15.801543</td></tr>\n",
       "\t<tr><td>A</td><td>15.221365</td></tr>\n",
       "\t<tr><td>A</td><td>13.888318</td></tr>\n",
       "\t<tr><td>A</td><td>18.573826</td></tr>\n",
       "\t<tr><td>A</td><td>15.995701</td></tr>\n",
       "\t<tr><td>A</td><td>11.066766</td></tr>\n",
       "\t<tr><td>A</td><td>16.402712</td></tr>\n",
       "\t<tr><td>A</td><td>14.054417</td></tr>\n",
       "\t<tr><td>B</td><td> 6.660881</td></tr>\n",
       "\t<tr><td>B</td><td>10.910125</td></tr>\n",
       "\t<tr><td>B</td><td> 6.869978</td></tr>\n",
       "\t<tr><td>B</td><td> 8.355544</td></tr>\n",
       "\t<tr><td>B</td><td> 8.874804</td></tr>\n",
       "\t<tr><td>B</td><td> 3.566533</td></tr>\n",
       "\t<tr><td>B</td><td>16.188935</td></tr>\n",
       "\t<tr><td>B</td><td>12.766866</td></tr>\n",
       "\t<tr><td>B</td><td> 6.309315</td></tr>\n",
       "\t<tr><td>B</td><td>18.269075</td></tr>\n",
       "\t<tr><td>B</td><td>14.132321</td></tr>\n",
       "\t<tr><td>B</td><td>10.524643</td></tr>\n",
       "\t<tr><td>B</td><td>16.475628</td></tr>\n",
       "\t<tr><td>B</td><td>16.390667</td></tr>\n",
       "\t<tr><td>B</td><td>16.107905</td></tr>\n",
       "\t<tr><td>B</td><td>15.443201</td></tr>\n",
       "\t<tr><td>B</td><td>14.769588</td></tr>\n",
       "\t<tr><td>B</td><td>11.690441</td></tr>\n",
       "\t<tr><td>B</td><td>10.470187</td></tr>\n",
       "\t<tr><td>B</td><td>10.097645</td></tr>\n",
       "</tbody>\n",
       "</table>\n"
      ],
      "text/latex": [
       "A data.frame: 40 × 2\n",
       "\\begin{tabular}{ll}\n",
       " class & score\\\\\n",
       " <chr> & <dbl>\\\\\n",
       "\\hline\n",
       "\t A & 13.879049\\\\\n",
       "\t A & 14.539645\\\\\n",
       "\t A & 18.117417\\\\\n",
       "\t A & 15.141017\\\\\n",
       "\t A & 15.258575\\\\\n",
       "\t A & 18.430130\\\\\n",
       "\t A & 15.921832\\\\\n",
       "\t A & 12.469878\\\\\n",
       "\t A & 13.626294\\\\\n",
       "\t A & 14.108676\\\\\n",
       "\t A & 17.448164\\\\\n",
       "\t A & 15.719628\\\\\n",
       "\t A & 15.801543\\\\\n",
       "\t A & 15.221365\\\\\n",
       "\t A & 13.888318\\\\\n",
       "\t A & 18.573826\\\\\n",
       "\t A & 15.995701\\\\\n",
       "\t A & 11.066766\\\\\n",
       "\t A & 16.402712\\\\\n",
       "\t A & 14.054417\\\\\n",
       "\t B &  6.660881\\\\\n",
       "\t B & 10.910125\\\\\n",
       "\t B &  6.869978\\\\\n",
       "\t B &  8.355544\\\\\n",
       "\t B &  8.874804\\\\\n",
       "\t B &  3.566533\\\\\n",
       "\t B & 16.188935\\\\\n",
       "\t B & 12.766866\\\\\n",
       "\t B &  6.309315\\\\\n",
       "\t B & 18.269075\\\\\n",
       "\t B & 14.132321\\\\\n",
       "\t B & 10.524643\\\\\n",
       "\t B & 16.475628\\\\\n",
       "\t B & 16.390667\\\\\n",
       "\t B & 16.107905\\\\\n",
       "\t B & 15.443201\\\\\n",
       "\t B & 14.769588\\\\\n",
       "\t B & 11.690441\\\\\n",
       "\t B & 10.470187\\\\\n",
       "\t B & 10.097645\\\\\n",
       "\\end{tabular}\n"
      ],
      "text/markdown": [
       "\n",
       "A data.frame: 40 × 2\n",
       "\n",
       "| class &lt;chr&gt; | score &lt;dbl&gt; |\n",
       "|---|---|\n",
       "| A | 13.879049 |\n",
       "| A | 14.539645 |\n",
       "| A | 18.117417 |\n",
       "| A | 15.141017 |\n",
       "| A | 15.258575 |\n",
       "| A | 18.430130 |\n",
       "| A | 15.921832 |\n",
       "| A | 12.469878 |\n",
       "| A | 13.626294 |\n",
       "| A | 14.108676 |\n",
       "| A | 17.448164 |\n",
       "| A | 15.719628 |\n",
       "| A | 15.801543 |\n",
       "| A | 15.221365 |\n",
       "| A | 13.888318 |\n",
       "| A | 18.573826 |\n",
       "| A | 15.995701 |\n",
       "| A | 11.066766 |\n",
       "| A | 16.402712 |\n",
       "| A | 14.054417 |\n",
       "| B |  6.660881 |\n",
       "| B | 10.910125 |\n",
       "| B |  6.869978 |\n",
       "| B |  8.355544 |\n",
       "| B |  8.874804 |\n",
       "| B |  3.566533 |\n",
       "| B | 16.188935 |\n",
       "| B | 12.766866 |\n",
       "| B |  6.309315 |\n",
       "| B | 18.269075 |\n",
       "| B | 14.132321 |\n",
       "| B | 10.524643 |\n",
       "| B | 16.475628 |\n",
       "| B | 16.390667 |\n",
       "| B | 16.107905 |\n",
       "| B | 15.443201 |\n",
       "| B | 14.769588 |\n",
       "| B | 11.690441 |\n",
       "| B | 10.470187 |\n",
       "| B | 10.097645 |\n",
       "\n"
      ],
      "text/plain": [
       "   class score    \n",
       "1  A     13.879049\n",
       "2  A     14.539645\n",
       "3  A     18.117417\n",
       "4  A     15.141017\n",
       "5  A     15.258575\n",
       "6  A     18.430130\n",
       "7  A     15.921832\n",
       "8  A     12.469878\n",
       "9  A     13.626294\n",
       "10 A     14.108676\n",
       "11 A     17.448164\n",
       "12 A     15.719628\n",
       "13 A     15.801543\n",
       "14 A     15.221365\n",
       "15 A     13.888318\n",
       "16 A     18.573826\n",
       "17 A     15.995701\n",
       "18 A     11.066766\n",
       "19 A     16.402712\n",
       "20 A     14.054417\n",
       "21 B      6.660881\n",
       "22 B     10.910125\n",
       "23 B      6.869978\n",
       "24 B      8.355544\n",
       "25 B      8.874804\n",
       "26 B      3.566533\n",
       "27 B     16.188935\n",
       "28 B     12.766866\n",
       "29 B      6.309315\n",
       "30 B     18.269075\n",
       "31 B     14.132321\n",
       "32 B     10.524643\n",
       "33 B     16.475628\n",
       "34 B     16.390667\n",
       "35 B     16.107905\n",
       "36 B     15.443201\n",
       "37 B     14.769588\n",
       "38 B     11.690441\n",
       "39 B     10.470187\n",
       "40 B     10.097645"
      ]
     },
     "metadata": {},
     "output_type": "display_data"
    }
   ],
   "source": [
    "grades"
   ]
  },
  {
   "cell_type": "markdown",
   "id": "b01ba82a",
   "metadata": {},
   "source": [
    "Let's start by comparing the descritive statistics. Because we are interested in differences between samples, what we want to do is compare summary statistics between groups. In our case, we want to understand how scores vary by class (e.g., Class A vs Class B). This means we don’t just want a single overall average — we want to compute things like the mean, standard deviation, or other summary statistics for each class separately.\n",
    "\n",
    "To do this efficiently in R, we use the `aggregate()` funciton. For instance\n",
    "\n",
    "```r\n",
    "aggregate(score ~ class, data = df, FUN = mean)\n",
    "```\n",
    "does the following: \n",
    "\n",
    "- groups the data by the class variable. Each unique value in class (e.g., \"A\", \"B\", etc.) becomes its own group.\n",
    "\n",
    "- Applies a function to each group. In this case, it applies the mean() function to the score variable within each class.\n",
    "\n",
    "- Returns a summary table: the result is a new data frame with one row per group, showing the computed statistic (mean score) for each class. \n",
    "\n"
   ]
  },
  {
   "cell_type": "code",
   "execution_count": 28,
   "id": "b9ec271a",
   "metadata": {
    "vscode": {
     "languageId": "r"
    }
   },
   "outputs": [
    {
     "data": {
      "text/html": [
       "<table class=\"dataframe\">\n",
       "<caption>A data.frame: 2 × 2</caption>\n",
       "<thead>\n",
       "\t<tr><th scope=col>class</th><th scope=col>score</th></tr>\n",
       "\t<tr><th scope=col>&lt;chr&gt;</th><th scope=col>&lt;dbl&gt;</th></tr>\n",
       "</thead>\n",
       "<tbody>\n",
       "\t<tr><td>A</td><td>15.28325</td></tr>\n",
       "\t<tr><td>B</td><td>11.74371</td></tr>\n",
       "</tbody>\n",
       "</table>\n"
      ],
      "text/latex": [
       "A data.frame: 2 × 2\n",
       "\\begin{tabular}{ll}\n",
       " class & score\\\\\n",
       " <chr> & <dbl>\\\\\n",
       "\\hline\n",
       "\t A & 15.28325\\\\\n",
       "\t B & 11.74371\\\\\n",
       "\\end{tabular}\n"
      ],
      "text/markdown": [
       "\n",
       "A data.frame: 2 × 2\n",
       "\n",
       "| class &lt;chr&gt; | score &lt;dbl&gt; |\n",
       "|---|---|\n",
       "| A | 15.28325 |\n",
       "| B | 11.74371 |\n",
       "\n"
      ],
      "text/plain": [
       "  class score   \n",
       "1 A     15.28325\n",
       "2 B     11.74371"
      ]
     },
     "metadata": {},
     "output_type": "display_data"
    }
   ],
   "source": [
    "aggregate(score ~ class, data = grades, FUN = mean)"
   ]
  },
  {
   "cell_type": "markdown",
   "id": "6ee5d93f",
   "metadata": {},
   "source": [
    "At first glance, the average score for Class A (15.28) is higher than that for Class B (11.74). This suggests that students in Class A performed better on average.\n",
    "\n",
    "However, a difference in means doesn't tell the whole story. There are several reasons why this difference might occur:\n",
    "\n",
    "- Consistently lower scores in B\n",
    "    Everyone in Class B might just be scoring lower across the board.\n",
    "- Outliers \n",
    "    One or two very low scores in Class B might be pulling the average down/ vice versa in A\n",
    "- Wider Spread of Scores\n",
    "    Class B might have greater variation — some high and some low scores — leading to a lower average even if the performance is mixed.\n",
    "\n",
    "To understand the distribution of values in each group, we need to go beyond the mean. That’s why our next step is to calculate and compare the standard deviation — a measure of how spread out the scores are in each class.\n",
    "\n",
    "This will help us answer questions like:\n",
    "\n",
    "- Are the scores tightly grouped or very spread out?\n",
    "- Is the difference in means meaningful or just due to variability?\n",
    "\n",
    "Let's just use the aggregate function to obtain the standard deviation. \n"
   ]
  },
  {
   "cell_type": "code",
   "execution_count": 29,
   "id": "f616e4d5",
   "metadata": {
    "vscode": {
     "languageId": "r"
    }
   },
   "outputs": [
    {
     "data": {
      "text/html": [
       "<table class=\"dataframe\">\n",
       "<caption>A data.frame: 2 × 2</caption>\n",
       "<thead>\n",
       "\t<tr><th scope=col>class</th><th scope=col>score</th></tr>\n",
       "\t<tr><th scope=col>&lt;chr&gt;</th><th scope=col>&lt;dbl&gt;</th></tr>\n",
       "</thead>\n",
       "<tbody>\n",
       "\t<tr><td>A</td><td>1.945331</td></tr>\n",
       "\t<tr><td>B</td><td>4.149693</td></tr>\n",
       "</tbody>\n",
       "</table>\n"
      ],
      "text/latex": [
       "A data.frame: 2 × 2\n",
       "\\begin{tabular}{ll}\n",
       " class & score\\\\\n",
       " <chr> & <dbl>\\\\\n",
       "\\hline\n",
       "\t A & 1.945331\\\\\n",
       "\t B & 4.149693\\\\\n",
       "\\end{tabular}\n"
      ],
      "text/markdown": [
       "\n",
       "A data.frame: 2 × 2\n",
       "\n",
       "| class &lt;chr&gt; | score &lt;dbl&gt; |\n",
       "|---|---|\n",
       "| A | 1.945331 |\n",
       "| B | 4.149693 |\n",
       "\n"
      ],
      "text/plain": [
       "  class score   \n",
       "1 A     1.945331\n",
       "2 B     4.149693"
      ]
     },
     "metadata": {},
     "output_type": "display_data"
    }
   ],
   "source": [
    "aggregate(score ~ class, data = grades, FUN = sd)"
   ]
  },
  {
   "cell_type": "markdown",
   "id": "464bad69",
   "metadata": {},
   "source": [
    "In A, student scores are closely clustered around the mean of 14.75. This suggests that most students in Class A performed similarly, with scores close to each other. In B, scores are much more spread out around the mean of 11. This suggests greater variability — some students may have done quite well, others poorly. \n",
    "\n",
    "\n",
    "The larger spread in B means that the lower average might be driven by a few very low scores, rather than the whole group performing poorly.\n",
    "\n",
    "So, the standard deviation helps us qualify the mean: while A performs better on average, B's lower average might be hiding a more complex distribution — one that includes outliers or mixed results.\n",
    "\n",
    "> **Note**: we could have obtained the same using the `dplyr` library. \n",
    "> ```r\n",
    "> library(dplyr)\n",
    ">\n",
    ">df %>%\n",
    ">   group_by(class) %>%\n",
    ">    summarise(\n",
    ">        mean_score = mean(score),\n",
    ">        sd_score = sd(score)\n",
    ">    )\n",
    "> ```\n",
    "\n",
    "Let's visualize the distribution: "
   ]
  },
  {
   "cell_type": "code",
   "execution_count": 30,
   "id": "2fa10db5",
   "metadata": {
    "vscode": {
     "languageId": "r"
    }
   },
   "outputs": [
    {
     "name": "stderr",
     "output_type": "stream",
     "text": [
      "Warning message:\n",
      "“\u001b[1m\u001b[22mThe dot-dot notation (`..density..`) was deprecated in ggplot2 3.4.0.\n",
      "\u001b[36mℹ\u001b[39m Please use `after_stat(density)` instead.”\n"
     ]
    },
    {
     "data": {
      "image/png": "[encoded data removed]",
      "text/plain": [
       "plot without title"
      ]
     },
     "metadata": {
      "image/png": {
       "height": 420,
       "width": 420
      }
     },
     "output_type": "display_data"
    }
   ],
   "source": [
    "library(ggplot2)\n",
    "\n",
    "ggplot(grades, aes(x = score, fill = class, y=..density..)) +\n",
    "  geom_histogram(alpha = 0.6, position = \"identity\", bins = 10) +\n",
    "  labs(title = \"Distribution of Scores by Class\") +\n",
    "  theme_minimal()\n",
    "\n"
   ]
  },
  {
   "cell_type": "markdown",
   "id": "9d08a139",
   "metadata": {},
   "source": [
    "Understanding the syntaxis: \n",
    "1. `ggplot(df, aes(...))`\n",
    "    We initialize the plot using the dataframe **grades**. The `aes()` function defines the aesthetic mappings:\n",
    "\n",
    "    - `x = score`: x-axis shows the variable score.\n",
    "\n",
    "    - `fill = class`: bars are colored (filled) based on the class variable, so each class will have a different color.\n",
    "\n",
    "    - `y = ..density..`: y-axis shows the density (histogram!!), which allows comparison of distributions with different sample sizes.\n",
    "\n",
    "2. `geom_histogram(...)`\n",
    "    Adds histogram bars to the plot, with these options:\n",
    "\n",
    "    - `alpha = 0.6`: set transparency of the bars (60%) so overlapping bars are easier to see.\n",
    "\n",
    "    - `position = \"identity\"`: bars for different classes are overlaid directly on top of each other, not stacked.\n",
    "\n",
    "    - `bins = 10`: divides the x-axis into 10 bins to group the scores.\n",
    "\n",
    "3. `labs(title = \"Distribution of Scores by Class\")`\n",
    "    Adds a title to the plot.\n",
    "\n",
    "4. `theme_minimal()`\n",
    "    Minimal theme to the plot for clarity.\n",
    "\n",
    "**Interpreting the histogram**\n",
    "- Class A:\n",
    "    The scores are concentrated mostly above 10, showing that most students in Class A have relatively high scores. The density is focused in this higher range, indicating a generally better performance or less variability in lower scores.\n",
    "\n",
    "-  Class B:\n",
    "    The distribution is more spread out with density in very low and very high observations. THis shows that, many students have low scores and some students perform very well. \n",
    "\n",
    "- Because the histogram uses density instead of raw counts, you can compare the shape of the distributions even if the classes have different numbers of students.\n",
    "\n",
    "We obtain a similar interpretation with the boxplot. "
   ]
  },
  {
   "cell_type": "code",
   "execution_count": 31,
   "id": "77790d6f",
   "metadata": {
    "vscode": {
     "languageId": "r"
    }
   },
   "outputs": [
    {
     "name": "stderr",
     "output_type": "stream",
     "text": [
      "ERROR while rich displaying an object: \u001b[1m\u001b[33mError\u001b[39m in `geom_boxplot()`:\u001b[22m\n",
      "\u001b[1m\u001b[22m\u001b[33m!\u001b[39m Problem while computing aesthetics.\n",
      "\u001b[36mℹ\u001b[39m Error occurred in the 1st layer.\n",
      "\u001b[1mCaused by error:\u001b[22m\n",
      "\u001b[33m!\u001b[39m object 'score' not found\n",
      "\n",
      "Traceback:\n",
      "1. sapply(x, f, simplify = simplify)\n",
      "2. lapply(X = X, FUN = FUN, ...)\n",
      "3. FUN(X[[i]], ...)\n",
      "4. tryCatch(withCallingHandlers({\n",
      " .     if (!mime %in% names(repr::mime2repr)) \n",
      " .         stop(\"No repr_* for mimetype \", mime, \" in repr::mime2repr\")\n",
      " .     rpr <- repr::mime2repr[[mime]](obj)\n",
      " .     if (is.null(rpr)) \n",
      " .         return(NULL)\n",
      " .     prepare_content(is.raw(rpr), rpr)\n",
      " . }, error = error_handler), error = outer_handler)\n",
      "5. tryCatchList(expr, classes, parentenv, handlers)\n",
      "6. tryCatchOne(expr, names, parentenv, handlers[[1L]])\n",
      "7. doTryCatch(return(expr), name, parentenv, handler)\n",
      "8. withCallingHandlers({\n",
      " .     if (!mime %in% names(repr::mime2repr)) \n",
      " .         stop(\"No repr_* for mimetype \", mime, \" in repr::mime2repr\")\n",
      " .     rpr <- repr::mime2repr[[mime]](obj)\n",
      " .     if (is.null(rpr)) \n",
      " .         return(NULL)\n",
      " .     prepare_content(is.raw(rpr), rpr)\n",
      " . }, error = error_handler)\n",
      "9. repr::mime2repr[[mime]](obj)\n",
      "10. repr_text.default(obj)\n",
      "11. paste(capture.output(print(obj)), collapse = \"\\n\")\n",
      "12. capture.output(print(obj))\n",
      "13. withVisible(...elt(i))\n",
      "14. print(obj)\n",
      "15. print.ggplot(obj)\n",
      "16. ggplot_build(x)\n",
      "17. ggplot_build.ggplot(x)\n",
      "18. by_layer(function(l, d) l$compute_aesthetics(d, plot), layers, \n",
      "  .     data, \"computing aesthetics\")\n",
      "19. try_fetch(for (i in seq_along(data)) {\n",
      "  .     out[[i]] <- f(l = layers[[i]], d = data[[i]])\n",
      "  . }, error = function(cnd) {\n",
      "  .     cli::cli_abort(c(\"Problem while {step}.\", i = \"Error occurred in the {ordinal(i)} layer.\"), \n",
      "  .         call = layers[[i]]$constructor, parent = cnd)\n",
      "  . })\n",
      "20. tryCatch(withCallingHandlers(expr, condition = function(cnd) {\n",
      "  .     {\n",
      "  .         .__handler_frame__. <- TRUE\n",
      "  .         .__setup_frame__. <- frame\n",
      "  .         if (inherits(cnd, \"message\")) {\n",
      "  .             except <- c(\"warning\", \"error\")\n",
      "  .         }\n",
      "  .         else if (inherits(cnd, \"warning\")) {\n",
      "  .             except <- \"error\"\n",
      "  .         }\n",
      "  .         else {\n",
      "  .             except <- \"\"\n",
      "  .         }\n",
      "  .     }\n",
      "  .     while (!is_null(cnd)) {\n",
      "  .         if (inherits(cnd, \"error\")) {\n",
      "  .             out <- handlers[[1L]](cnd)\n",
      "  .             if (!inherits(out, \"rlang_zap\")) \n",
      "  .                 throw(out)\n",
      "  .         }\n",
      "  .         inherit <- .subset2(.subset2(cnd, \"rlang\"), \"inherit\")\n",
      "  .         if (is_false(inherit)) {\n",
      "  .             return()\n",
      "  .         }\n",
      "  .         cnd <- .subset2(cnd, \"parent\")\n",
      "  .     }\n",
      "  . }), stackOverflowError = handlers[[1L]])\n",
      "21. tryCatchList(expr, classes, parentenv, handlers)\n",
      "22. tryCatchOne(expr, names, parentenv, handlers[[1L]])\n",
      "23. doTryCatch(return(expr), name, parentenv, handler)\n",
      "24. withCallingHandlers(expr, condition = function(cnd) {\n",
      "  .     {\n",
      "  .         .__handler_frame__. <- TRUE\n",
      "  .         .__setup_frame__. <- frame\n",
      "  .         if (inherits(cnd, \"message\")) {\n",
      "  .             except <- c(\"warning\", \"error\")\n",
      "  .         }\n",
      "  .         else if (inherits(cnd, \"warning\")) {\n",
      "  .             except <- \"error\"\n",
      "  .         }\n",
      "  .         else {\n",
      "  .             except <- \"\"\n",
      "  .         }\n",
      "  .     }\n",
      "  .     while (!is_null(cnd)) {\n",
      "  .         if (inherits(cnd, \"error\")) {\n",
      "  .             out <- handlers[[1L]](cnd)\n",
      "  .             if (!inherits(out, \"rlang_zap\")) \n",
      "  .                 throw(out)\n",
      "  .         }\n",
      "  .         inherit <- .subset2(.subset2(cnd, \"rlang\"), \"inherit\")\n",
      "  .         if (is_false(inherit)) {\n",
      "  .             return()\n",
      "  .         }\n",
      "  .         cnd <- .subset2(cnd, \"parent\")\n",
      "  .     }\n",
      "  . })\n",
      "25. f(l = layers[[i]], d = data[[i]])\n",
      "26. l$compute_aesthetics(d, plot)\n",
      "27. compute_aesthetics(..., self = self)\n",
      "28. lapply(aesthetics, eval_tidy, data = data, env = env)\n",
      "29. FUN(X[[i]], ...)\n",
      "30. .handleSimpleError(function (cnd) \n",
      "  . {\n",
      "  .     {\n",
      "  .         .__handler_frame__. <- TRUE\n",
      "  .         .__setup_frame__. <- frame\n",
      "  .         if (inherits(cnd, \"message\")) {\n",
      "  .             except <- c(\"warning\", \"error\")\n",
      "  .         }\n",
      "  .         else if (inherits(cnd, \"warning\")) {\n",
      "  .             except <- \"error\"\n",
      "  .         }\n",
      "  .         else {\n",
      "  .             except <- \"\"\n",
      "  .         }\n",
      "  .     }\n",
      "  .     while (!is_null(cnd)) {\n",
      "  .         if (inherits(cnd, \"error\")) {\n",
      "  .             out <- handlers[[1L]](cnd)\n",
      "  .             if (!inherits(out, \"rlang_zap\")) \n",
      "  .                 throw(out)\n",
      "  .         }\n",
      "  .         inherit <- .subset2(.subset2(cnd, \"rlang\"), \"inherit\")\n",
      "  .         if (is_false(inherit)) {\n",
      "  .             return()\n",
      "  .         }\n",
      "  .         cnd <- .subset2(cnd, \"parent\")\n",
      "  .     }\n",
      "  . }, \"object 'score' not found\", base::quote(NULL))\n",
      "31. h(simpleError(msg, call))\n",
      "32. handlers[[1L]](cnd)\n",
      "33. cli::cli_abort(c(\"Problem while {step}.\", i = \"Error occurred in the {ordinal(i)} layer.\"), \n",
      "  .     call = layers[[i]]$constructor, parent = cnd)\n",
      "34. rlang::abort(message, ..., call = call, use_cli_format = TRUE, \n",
      "  .     .frame = .frame)\n",
      "35. signal_abort(cnd, .file)\n"
     ]
    }
   ],
   "source": [
    "ggplot(df, aes(x = class, y = score, fill = class)) +\n",
    "  geom_boxplot(alpha = 0.7) +\n",
    "  labs(title = \"Score Comparison Between Classes\") +\n",
    "  theme_minimal()"
   ]
  },
  {
   "cell_type": "markdown",
   "id": "41daf9cc",
   "metadata": {},
   "source": [
    "Let's see how we interpret the boxplot: \n",
    "\n",
    "- **Median & Central Tendency**:  \n",
    "  The thick line inside each box represents the median score for each class.\n",
    "  - A’s median score is **higher**, confirming that A generally performs better (i.e., 50% of its students score above 15 vs. 12 in B)\n",
    "\n",
    "- **Interquartile Range (IQR)**:  \n",
    "  The box spans from the 25th percentile (Q1, 25% of observations below) to the 75th percentile (Q3, 75% of observation below), showing the middle 50% of scores.\n",
    "  - Class A’s box is **narrower**, indicating less variability among most students’ scores.\n",
    "  - Class B’s box is **wider**, indicating greater spread and variability.\n",
    "\n",
    "- **Whiskers & Outliers**:  \n",
    "  Whiskers extend to show the range of scores excluding outliers.\n",
    "  - B’s whiskers are longer on the lower end, showing some students score much lower than the central 50% of observations. \n",
    "\n",
    "- **Overall**:  \n",
    "  The boxplot visually confirms what we saw in the histogram and descriptive statistics:  \n",
    "  - A tends to have consistently higher and less variable scores.  \n",
    "  - B has more variability and possibly outliers, with a broader range of performance.\n",
    "\n",
    "## 3. Inequality measure: Gini index & Lorenx curve. \n",
    "\n",
    "In the next part of our session we are going to see how to obtain inequality measure. But first, what is the difference between dispersion and inequality/concentration measures?\n",
    "\n",
    "In the next part of our session, we are going to see how to obtain inequality measures. But first, what is the difference between dispersion and inequality/concentration measures?\n",
    "\n",
    "**Dispersion measures**—like variance and standard deviation—capture how spread out values are around the mean. They tell us about the overall variability within a dataset but don’t provide information about how values are distributed relative to each other.\n",
    "\n",
    "**Inequality or concentration measures**, such as the Gini index and Lorenz curve, focus on the relative distribution of values across individuals or groups. They reveal whether values (like income or wealth) are concentrated among a few or evenly distributed throughout the population.\n",
    "\n",
    "Let's briefly recap the concentration measures we've seen in theory class:\n",
    "\n",
    "- The **Lorenz curve** graphically represents the cumulative share of the total income (or value) held by the bottom x% of the population, helping us visualize inequality.\n",
    "- The **Gini index** summarizes this inequality as a single number between 0 (perfect equality, everyone has the same) and 1 (maximum inequality, one individual has everything, others nothing)\n",
    "\n",
    "❓**What is the relationship between the Lorenz curve and the Gini index?**\n",
    "\n",
    "As always, we start by loading our packages and our data, which will be the distribution of wages of the second session. "
   ]
  },
  {
   "cell_type": "code",
   "execution_count": 32,
   "id": "544ffada",
   "metadata": {
    "vscode": {
     "languageId": "r"
    }
   },
   "outputs": [
    {
     "name": "stderr",
     "output_type": "stream",
     "text": [
      "Registered S3 methods overwritten by 'ineq':\n",
      "  method   from     \n",
      "  plot.Lc  DescTools\n",
      "  lines.Lc DescTools\n",
      "\n",
      "\n",
      "Attaching package: ‘ineq’\n",
      "\n",
      "\n",
      "The following objects are masked from ‘package:DescTools’:\n",
      "\n",
      "    Atkinson, Gini, Herfindahl, Lc, Rosenbluth\n",
      "\n",
      "\n"
     ]
    }
   ],
   "source": [
    "library(DescTools)  # for Gini index calculation\n",
    "library(ineq)       # for Lorenz curve plotting\n",
    "data = read_excel(\"data/session_2/education_wage.xlsx\")"
   ]
  },
  {
   "cell_type": "markdown",
   "id": "a5e9fd04",
   "metadata": {},
   "source": [
    "Let's start with the Gini index: "
   ]
  },
  {
   "cell_type": "code",
   "execution_count": 33,
   "id": "1ebba11a",
   "metadata": {
    "vscode": {
     "languageId": "r"
    }
   },
   "outputs": [
    {
     "name": "stdout",
     "output_type": "stream",
     "text": [
      "[1] 0.1585174\n"
     ]
    }
   ],
   "source": [
    "gini_index <- Gini(data$\"Monthly wage (Eur)\")  # replace your_variable with the actual variable name\n",
    "print(gini_index)"
   ]
  },
  {
   "cell_type": "markdown",
   "id": "41ab03f8",
   "metadata": {},
   "source": [
    "A value of 0.15 in the Gini index suggests that the values are fairly evenly distributed among the population.\n",
    "\n",
    "Let's go the Lorenz Curve:"
   ]
  },
  {
   "cell_type": "code",
   "execution_count": 34,
   "id": "b767cc5e",
   "metadata": {
    "vscode": {
     "languageId": "r"
    }
   },
   "outputs": [
    {
     "data": {
      "image/png": "[encoded data removed]",
      "text/plain": [
       "Plot with title “Lorenz Curve”"
      ]
     },
     "metadata": {
      "image/png": {
       "height": 420,
       "width": 420
      }
     },
     "output_type": "display_data"
    }
   ],
   "source": [
    "lorenz_curve <- Lc(data$`Monthly wage (Eur)`)\n",
    "plot(lorenz_curve, \n",
    "     main = \"Lorenz Curve\", \n",
    "     xlab = \"Cumulative Share of Population\", \n",
    "     ylab = \"Cumulative Share of Monthly Wage\")"
   ]
  },
  {
   "cell_type": "markdown",
   "id": "bc238993",
   "metadata": {},
   "source": [
    "The Lorenz curve plots the cumulative share of the population (x-axis) against the cumulative share of the variable of interest (e.g., income) they hold (y-axis).\n",
    "\n",
    "- The **45-degree line** (the diagonal) represents **perfect equality**, where each percentage of the population holds an equal percentage of the total value.\n",
    "- The further the Lorenz curve bows away from this 45-degree line, the greater the inequality in the distribution.\n",
    "\n",
    "From the plotted Lorenz curve, we can see that the curve lies close to the 45-degree line, indicating relatively low inequality in the distribution of the variable. This matches the low Gini index value, confirming that most of the population holds a similar share of the total value."
   ]
  },
  {
   "cell_type": "code",
   "execution_count": 35,
   "id": "ca85632a",
   "metadata": {
    "vscode": {
     "languageId": "r"
    }
   },
   "outputs": [
    {
     "name": "stderr",
     "output_type": "stream",
     "text": [
      "ERROR while rich displaying an object: \u001b[1m\u001b[33mError\u001b[39m in `geom_boxplot()`:\u001b[22m\n",
      "\u001b[1m\u001b[22m\u001b[33m!\u001b[39m Problem while computing aesthetics.\n",
      "\u001b[36mℹ\u001b[39m Error occurred in the 1st layer.\n",
      "\u001b[1mCaused by error:\u001b[22m\n",
      "\u001b[33m!\u001b[39m object 'group' not found\n",
      "\n",
      "Traceback:\n",
      "1. sapply(x, f, simplify = simplify)\n",
      "2. lapply(X = X, FUN = FUN, ...)\n",
      "3. FUN(X[[i]], ...)\n",
      "4. tryCatch(withCallingHandlers({\n",
      " .     if (!mime %in% names(repr::mime2repr)) \n",
      " .         stop(\"No repr_* for mimetype \", mime, \" in repr::mime2repr\")\n",
      " .     rpr <- repr::mime2repr[[mime]](obj)\n",
      " .     if (is.null(rpr)) \n",
      " .         return(NULL)\n",
      " .     prepare_content(is.raw(rpr), rpr)\n",
      " . }, error = error_handler), error = outer_handler)\n",
      "5. tryCatchList(expr, classes, parentenv, handlers)\n",
      "6. tryCatchOne(expr, names, parentenv, handlers[[1L]])\n",
      "7. doTryCatch(return(expr), name, parentenv, handler)\n",
      "8. withCallingHandlers({\n",
      " .     if (!mime %in% names(repr::mime2repr)) \n",
      " .         stop(\"No repr_* for mimetype \", mime, \" in repr::mime2repr\")\n",
      " .     rpr <- repr::mime2repr[[mime]](obj)\n",
      " .     if (is.null(rpr)) \n",
      " .         return(NULL)\n",
      " .     prepare_content(is.raw(rpr), rpr)\n",
      " . }, error = error_handler)\n",
      "9. repr::mime2repr[[mime]](obj)\n",
      "10. repr_text.default(obj)\n",
      "11. paste(capture.output(print(obj)), collapse = \"\\n\")\n",
      "12. capture.output(print(obj))\n",
      "13. withVisible(...elt(i))\n",
      "14. print(obj)\n",
      "15. print.ggplot(obj)\n",
      "16. ggplot_build(x)\n",
      "17. ggplot_build.ggplot(x)\n",
      "18. by_layer(function(l, d) l$compute_aesthetics(d, plot), layers, \n",
      "  .     data, \"computing aesthetics\")\n",
      "19. try_fetch(for (i in seq_along(data)) {\n",
      "  .     out[[i]] <- f(l = layers[[i]], d = data[[i]])\n",
      "  . }, error = function(cnd) {\n",
      "  .     cli::cli_abort(c(\"Problem while {step}.\", i = \"Error occurred in the {ordinal(i)} layer.\"), \n",
      "  .         call = layers[[i]]$constructor, parent = cnd)\n",
      "  . })\n",
      "20. tryCatch(withCallingHandlers(expr, condition = function(cnd) {\n",
      "  .     {\n",
      "  .         .__handler_frame__. <- TRUE\n",
      "  .         .__setup_frame__. <- frame\n",
      "  .         if (inherits(cnd, \"message\")) {\n",
      "  .             except <- c(\"warning\", \"error\")\n",
      "  .         }\n",
      "  .         else if (inherits(cnd, \"warning\")) {\n",
      "  .             except <- \"error\"\n",
      "  .         }\n",
      "  .         else {\n",
      "  .             except <- \"\"\n",
      "  .         }\n",
      "  .     }\n",
      "  .     while (!is_null(cnd)) {\n",
      "  .         if (inherits(cnd, \"error\")) {\n",
      "  .             out <- handlers[[1L]](cnd)\n",
      "  .             if (!inherits(out, \"rlang_zap\")) \n",
      "  .                 throw(out)\n",
      "  .         }\n",
      "  .         inherit <- .subset2(.subset2(cnd, \"rlang\"), \"inherit\")\n",
      "  .         if (is_false(inherit)) {\n",
      "  .             return()\n",
      "  .         }\n",
      "  .         cnd <- .subset2(cnd, \"parent\")\n",
      "  .     }\n",
      "  . }), stackOverflowError = handlers[[1L]])\n",
      "21. tryCatchList(expr, classes, parentenv, handlers)\n",
      "22. tryCatchOne(expr, names, parentenv, handlers[[1L]])\n",
      "23. doTryCatch(return(expr), name, parentenv, handler)\n",
      "24. withCallingHandlers(expr, condition = function(cnd) {\n",
      "  .     {\n",
      "  .         .__handler_frame__. <- TRUE\n",
      "  .         .__setup_frame__. <- frame\n",
      "  .         if (inherits(cnd, \"message\")) {\n",
      "  .             except <- c(\"warning\", \"error\")\n",
      "  .         }\n",
      "  .         else if (inherits(cnd, \"warning\")) {\n",
      "  .             except <- \"error\"\n",
      "  .         }\n",
      "  .         else {\n",
      "  .             except <- \"\"\n",
      "  .         }\n",
      "  .     }\n",
      "  .     while (!is_null(cnd)) {\n",
      "  .         if (inherits(cnd, \"error\")) {\n",
      "  .             out <- handlers[[1L]](cnd)\n",
      "  .             if (!inherits(out, \"rlang_zap\")) \n",
      "  .                 throw(out)\n",
      "  .         }\n",
      "  .         inherit <- .subset2(.subset2(cnd, \"rlang\"), \"inherit\")\n",
      "  .         if (is_false(inherit)) {\n",
      "  .             return()\n",
      "  .         }\n",
      "  .         cnd <- .subset2(cnd, \"parent\")\n",
      "  .     }\n",
      "  . })\n",
      "25. f(l = layers[[i]], d = data[[i]])\n",
      "26. l$compute_aesthetics(d, plot)\n",
      "27. compute_aesthetics(..., self = self)\n",
      "28. lapply(aesthetics, eval_tidy, data = data, env = env)\n",
      "29. FUN(X[[i]], ...)\n",
      "30. .handleSimpleError(function (cnd) \n",
      "  . {\n",
      "  .     {\n",
      "  .         .__handler_frame__. <- TRUE\n",
      "  .         .__setup_frame__. <- frame\n",
      "  .         if (inherits(cnd, \"message\")) {\n",
      "  .             except <- c(\"warning\", \"error\")\n",
      "  .         }\n",
      "  .         else if (inherits(cnd, \"warning\")) {\n",
      "  .             except <- \"error\"\n",
      "  .         }\n",
      "  .         else {\n",
      "  .             except <- \"\"\n",
      "  .         }\n",
      "  .     }\n",
      "  .     while (!is_null(cnd)) {\n",
      "  .         if (inherits(cnd, \"error\")) {\n",
      "  .             out <- handlers[[1L]](cnd)\n",
      "  .             if (!inherits(out, \"rlang_zap\")) \n",
      "  .                 throw(out)\n",
      "  .         }\n",
      "  .         inherit <- .subset2(.subset2(cnd, \"rlang\"), \"inherit\")\n",
      "  .         if (is_false(inherit)) {\n",
      "  .             return()\n",
      "  .         }\n",
      "  .         cnd <- .subset2(cnd, \"parent\")\n",
      "  .     }\n",
      "  . }, \"object 'group' not found\", base::quote(NULL))\n",
      "31. h(simpleError(msg, call))\n",
      "32. handlers[[1L]](cnd)\n",
      "33. cli::cli_abort(c(\"Problem while {step}.\", i = \"Error occurred in the {ordinal(i)} layer.\"), \n",
      "  .     call = layers[[i]]$constructor, parent = cnd)\n",
      "34. rlang::abort(message, ..., call = call, use_cli_format = TRUE, \n",
      "  .     .frame = .frame)\n",
      "35. signal_abort(cnd, .file)\n"
     ]
    }
   ],
   "source": [
    "ggplot(df, aes(x = group, y = income, fill = group)) +\n",
    "  geom_boxplot(alpha = 0.6) +\n",
    "  theme_minimal() +\n",
    "  theme(\n",
    "    axis.title.x = element_blank(),\n",
    "    axis.text.x = element_blank(),\n",
    "    legend.position = \"none\"\n",
    "  ) +\n",
    "  labs(title = \"Income Distribution by Group (Groups Hidden)\")"
   ]
  },
  {
   "cell_type": "code",
   "execution_count": null,
   "id": "55cc1b08",
   "metadata": {
    "vscode": {
     "languageId": "r"
    }
   },
   "outputs": [],
   "source": []
  }
 ],
 "metadata": {
  "kernelspec": {
   "display_name": "R",
   "language": "R",
   "name": "ir"
  },
  "language_info": {
   "codemirror_mode": "r",
   "file_extension": ".r",
   "mimetype": "text/x-r-source",
   "name": "R",
   "pygments_lexer": "r",
   "version": "4.4.3"
  }
 },
 "nbformat": 4,
 "nbformat_minor": 5
}
