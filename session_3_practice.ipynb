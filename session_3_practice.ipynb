{
 "cells": [
  {
   "cell_type": "markdown",
   "id": "ed50c8f5",
   "metadata": {
    "vscode": {
     "languageId": "r"
    }
   },
   "source": [
    "# Practice session 3:\n",
    "\n",
    "You will work with a dataset containing income values for two groups: Group A and Group B. The data frame df has two columns:\n",
    "\n",
    "- `income`: Numeric variable representing income amounts\n",
    "\n",
    "- `group`: Factor with two levels \"A\" and \"B\"\n",
    "\n",
    "##### Tasks:\n",
    "1. Summary statistics:\n",
    "\n",
    "    - Calculate the mean and standard deviation of income for each group.\n",
    "    - Which group has the higher average income? Which group is more dispersed?\n"
   ]
  },
  {
   "cell_type": "code",
   "execution_count": null,
   "id": "7fb8446d",
   "metadata": {
    "vscode": {
     "languageId": "r"
    }
   },
   "outputs": [],
   "source": []
  },
  {
   "cell_type": "markdown",
   "id": "6da7298e",
   "metadata": {},
   "source": [
    "\n",
    "2. The following figure displays the boxplot for each of the groups. \n",
    "\n",
    "![Boxplot](https://raw.githubusercontent.com/albaminanomanero/data_analysis_iseg/refs/heads/main/imgs/boxplot_question.png)\n",
    "\n",
    "- Interpret the boxplot characteristics (median, spread, outliers).\n",
    "- Based on the plot and the results of exercise 1, decide which box corresponds to Group A and which to Group B. Justify your answer."
   ]
  },
  {
   "cell_type": "markdown",
   "id": "a9f7ecef",
   "metadata": {},
   "source": []
  },
  {
   "cell_type": "markdown",
   "id": "44d69d05",
   "metadata": {
    "vscode": {
     "languageId": "r"
    }
   },
   "source": [
    "3. Calculate the Gini index for each group using the `Gini()` function.\n",
    "\n",
    "    - Compare the Gini indices to the standard deviations and means you calculated earlier.\n",
    "    - Which group shows higher inequality according to the Gini index?\n",
    "    - Is this consistent with the difference in standard deviations and means?\n",
    "    - How can a group with a higher mean still have a higher or lower Gini index?"
   ]
  },
  {
   "cell_type": "markdown",
   "id": "112037a3",
   "metadata": {},
   "source": []
  }
 ],
 "metadata": {
  "kernelspec": {
   "display_name": "R",
   "language": "R",
   "name": "ir"
  },
  "language_info": {
   "codemirror_mode": "r",
   "file_extension": ".r",
   "mimetype": "text/x-r-source",
   "name": "R",
   "pygments_lexer": "r",
   "version": "4.4.3"
  }
 },
 "nbformat": 4,
 "nbformat_minor": 5
}
